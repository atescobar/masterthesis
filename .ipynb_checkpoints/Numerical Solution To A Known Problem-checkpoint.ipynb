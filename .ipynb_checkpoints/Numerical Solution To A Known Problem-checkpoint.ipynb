{
 "cells": [
  {
   "cell_type": "code",
   "execution_count": 4,
   "metadata": {},
   "outputs": [
    {
     "name": "stdout",
     "output_type": "stream",
     "text": [
      "\n",
      "        x         y[ 0 ]        y[ 1 ]  \n",
      "   0.0000e+00   -3.9199e-05    1.0000e+00 \n",
      "   2.0000e-01   -7.7886e-01    9.2105e-01 \n",
      "   4.0000e-01   -1.4347e+00    6.9670e-01 \n",
      "   6.0000e-01   -1.8641e+00    3.6235e-01 \n",
      "   7.8540e-01   -2.0000e+00   -1.1102e-16 \n",
      "\n",
      "Press return to exit\n"
     ]
    },
    {
     "data": {
      "image/png": "[encoded data removed]",
      "text/plain": [
       "<matplotlib.figure.Figure at 0x11849cc18>"
      ]
     },
     "metadata": {},
     "output_type": "display_data"
    }
   ],
   "source": [
    "#!/usr/bin/python\n",
    "## example8_1\n",
    "import matplotlib.pyplot as plt\n",
    "import numpy as np\n",
    "from run_kut4 import *\n",
    "from ridder import *\n",
    "from printSoln import *\n",
    "\n",
    "def initCond(u):  # Init. values of [y,y’]; use ’u’ if unknown\n",
    "    return np.array([u, 1])\n",
    "\n",
    "\n",
    "def r(u):         # Boundary condition residual--see Eq. (8.3)\n",
    "    X,Y = integrate(F, xStart, initCond(u), xStop, h)\n",
    "    y = Y[len(Y) - 1]\n",
    "    r = y[1] - 0.0\n",
    "    return r\n",
    "\n",
    "def F(x,y):\n",
    "    F = np.zeros(2)\n",
    "    F[0] = -4*y[1]\n",
    "    F[1] = y[0]\n",
    "    return F\n",
    "\n",
    "\n",
    "\n",
    "xStart = 0.0\n",
    "xStop = np.pi/4\n",
    "u1 = 0.0\n",
    "u2 = -4/np.pi\n",
    "h = 0.1\n",
    "freq = 2\n",
    "u = ridder(r,u1,u2) \n",
    "X,Y = integrate(F,xStart,initCond(u),xStop,h)\n",
    "printSoln(X,Y,freq)\n",
    "input(\"\\nPress return to exit\")\n",
    "\n",
    "################## PLOT SOLUTION ######################\n",
    "\n",
    "figure = plt.figure(6)\n",
    "plt.plot(X, np.cos(2*X), 'r', label='Analytic Solution')\n",
    "plt.plot(X, Y[:,1], 'b--', label='Numerical Solution')\n",
    "\n",
    "x_labels = [0, '$\\pi/4$']\n",
    "x_ticks = [0, np.pi/4]\n",
    "\n",
    "\n",
    "plt.xticks(x_ticks, x_labels)\n",
    "plt.legend()\n",
    "plt.show()"
   ]
  },
  {
   "cell_type": "code",
   "execution_count": 11,
   "metadata": {},
   "outputs": [
    {
     "data": {
      "image/png": "[encoded data removed]",
      "text/plain": [
       "<matplotlib.figure.Figure at 0x112dc28d0>"
      ]
     },
     "metadata": {},
     "output_type": "display_data"
    }
   ],
   "source": [
    "def F(x,y):\n",
    "    F = np.zeros(2)\n",
    "    F[0] = y[1]\n",
    "    F[1] = -3*y[0]*y[1]\n",
    "    return F\n",
    "\n",
    "def initCond(u):\n",
    "    return np.array([u, 1])\n",
    "\n",
    "def r(u):\n",
    "    xStart = 0.0\n",
    "    xStop = np.pi/4\n",
    "    h = np.float_(0.001)\n",
    "    X, Y = integrate(F,xStart, initCond(u), xStop, h)\n",
    "    y = np.float_(Y[-1,1])\n",
    "    r = y-1.0\n",
    "    return np.float_(r)\n",
    "\n",
    "xStart = 0\n",
    "xStop = 2\n",
    "u1 = 1\n",
    "u2 = 2\n",
    "h = np.float_(0.001)\n",
    "u = ridder(r, u1, u2)\n",
    "X,Y = integrate(F, xStart, initCond(u), xStop, h)\n",
    "\n",
    "figure = plt.figure(2)\n",
    "plt.plot(X, Y[:,1], 'b', label='Numerical Solution')\n",
    "\n",
    "x_labels = ['0', '1', '2']\n",
    "x_ticks = [0, 1, 2]\n",
    "\n",
    "\n",
    "plt.xticks(x_ticks, x_labels)\n",
    "plt.legend()\n",
    "plt.show()\n",
    "\n"
   ]
  },
  {
   "cell_type": "code",
   "execution_count": null,
   "metadata": {
    "collapsed": true
   },
   "outputs": [],
   "source": []
  },
  {
   "cell_type": "code",
   "execution_count": null,
   "metadata": {
    "collapsed": true
   },
   "outputs": [],
   "source": []
  }
 ],
 "metadata": {
  "kernelspec": {
   "display_name": "Python 3",
   "language": "python",
   "name": "python3"
  },
  "language_info": {
   "codemirror_mode": {
    "name": "ipython",
    "version": 3
   },
   "file_extension": ".py",
   "mimetype": "text/x-python",
   "name": "python",
   "nbconvert_exporter": "python",
   "pygments_lexer": "ipython3",
   "version": "3.6.1"
  }
 },
 "nbformat": 4,
 "nbformat_minor": 2
}
