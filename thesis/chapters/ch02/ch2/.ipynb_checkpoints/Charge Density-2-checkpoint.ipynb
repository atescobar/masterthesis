{
 "cells": [
  {
   "cell_type": "markdown",
   "metadata": {},
   "source": [
    "# Surface charge density at the interface\n",
    "\n"
   ]
  },
  {
   "cell_type": "code",
   "execution_count": 3,
   "metadata": {},
   "outputs": [],
   "source": [
    "import numpy as np\n",
    "\n",
    "z = 2\n",
    "e = 1.60217662E-19\n",
    "k = 1.38064852E-23\n",
    "T = 300\n",
    "b=1/(k*T)\n",
    "Na = 6.02E23\n",
    "Fa = Na * e\n",
    "q = e\n",
    "R = Na * k\n",
    "coef = z*e/(k*T)\n",
    "V_0 = -coef*0.15\n",
    "Cb1 = 0.1\n",
    "Cb2 = 0.5\n",
    "Cb3 = 0.01\n",
    "\n",
    "epsilon = 80.9 * 8.85418782E-12\n",
    "k1 = np.sqrt(0.1 * (z*Fa) ** 2 * Cb1/ (R * T * epsilon))\n",
    "k2 = np.sqrt(0.1 * (z*Fa) ** 2 * Cb2/ (R * T * epsilon))\n",
    "k3 = np.sqrt(0.1 * (z*Fa) ** 2 * Cb3/ (R * T * epsilon))\n",
    "\n"
   ]
  },
  {
   "cell_type": "code",
   "execution_count": 8,
   "metadata": {},
   "outputs": [
    {
     "data": {
      "image/png": "[encoded data removed]",
      "text/plain": [
       "<matplotlib.figure.Figure at 0x11445a0b8>"
      ]
     },
     "metadata": {},
     "output_type": "display_data"
    }
   ],
   "source": [
    "import matplotlib.pyplot as plt\n",
    "\n",
    "V = np.arange(-0.4,0.4, 0.0001)\n",
    "sig1 = -4*epsilon*k1/(b*q) * np.tanh(q*b*V/4)/(np.tanh(q*b*V/4) ** 2 - 1)\n",
    "sig2 = -4*epsilon*k2/(b*q) * np.tanh(q*b*V/4)/(np.tanh(q*b*V/4) ** 2 - 1)\n",
    "sig3 = -4*epsilon*k3/(b*q) * np.tanh(q*b*V/4)/(np.tanh(q*b*V/4) ** 2 - 1)\n",
    "\n",
    "\n",
    "plt.figure(1)\n",
    "plt.title('', fontsize=16, fontweight='bold')\n",
    "plt.xlabel(r'Voltage [$V$]', fontsize=16)\n",
    "plt.ylabel(r'$\\sigma$ [$C/m^2$]', fontsize=16)\n",
    "plt.plot(V, sig1, 'b--', label='$C_b = 0.1$')\n",
    "plt.plot(V, sig2, 'g--', label='$C_b = 0.5$')\n",
    "plt.plot(V, sig3, 'r--', label='$C_b = 0.01$')\n",
    "plt.legend()\n",
    "plt.savefig('sigma-voltage.eps', format='eps', dpi=1000, fontsize=16, fontweight='bold')\n",
    "plt.show()"
   ]
  },
  {
   "cell_type": "code",
   "execution_count": 5,
   "metadata": {},
   "outputs": [
    {
     "name": "stderr",
     "output_type": "stream",
     "text": [
      "/anaconda3/lib/python3.6/site-packages/ipykernel_launcher.py:7: RuntimeWarning: invalid value encountered in sqrt\n",
      "  import sys\n",
      "/anaconda3/lib/python3.6/site-packages/ipykernel_launcher.py:8: RuntimeWarning: invalid value encountered in sqrt\n",
      "  \n",
      "/anaconda3/lib/python3.6/site-packages/ipykernel_launcher.py:9: RuntimeWarning: invalid value encountered in sqrt\n",
      "  if __name__ == '__main__':\n",
      "/anaconda3/lib/python3.6/site-packages/ipykernel_launcher.py:11: RuntimeWarning: invalid value encountered in arctanh\n",
      "  # This is added back by InteractiveShellApp.init_path()\n",
      "/anaconda3/lib/python3.6/site-packages/ipykernel_launcher.py:12: RuntimeWarning: invalid value encountered in arctanh\n",
      "  if sys.path[0] == '':\n",
      "/anaconda3/lib/python3.6/site-packages/ipykernel_launcher.py:13: RuntimeWarning: invalid value encountered in arctanh\n",
      "  del sys.path[0]\n"
     ]
    },
    {
     "ename": "NameError",
     "evalue": "name 'tanhm' is not defined",
     "output_type": "error",
     "traceback": [
      "\u001b[0;31m--------------------------------------------------------------\u001b[0m",
      "\u001b[0;31mNameError\u001b[0m                    Traceback (most recent call last)",
      "\u001b[0;32m<ipython-input-5-c15cb60115fa>\u001b[0m in \u001b[0;36m<module>\u001b[0;34m()\u001b[0m\n\u001b[1;32m     13\u001b[0m \u001b[0mVp3\u001b[0m \u001b[0;34m=\u001b[0m \u001b[0;36m4\u001b[0m\u001b[0;34m/\u001b[0m\u001b[0;34m(\u001b[0m\u001b[0mq\u001b[0m\u001b[0;34m*\u001b[0m\u001b[0mb\u001b[0m\u001b[0;34m)\u001b[0m \u001b[0;34m*\u001b[0m \u001b[0mnp\u001b[0m\u001b[0;34m.\u001b[0m\u001b[0marctanh\u001b[0m\u001b[0;34m(\u001b[0m\u001b[0mtanhp3\u001b[0m\u001b[0;34m)\u001b[0m\u001b[0;34m\u001b[0m\u001b[0m\n\u001b[1;32m     14\u001b[0m \u001b[0;34m\u001b[0m\u001b[0m\n\u001b[0;32m---> 15\u001b[0;31m \u001b[0mVm1\u001b[0m \u001b[0;34m=\u001b[0m \u001b[0;36m4\u001b[0m\u001b[0;34m/\u001b[0m\u001b[0;34m(\u001b[0m\u001b[0mq\u001b[0m\u001b[0;34m*\u001b[0m\u001b[0mb\u001b[0m\u001b[0;34m)\u001b[0m \u001b[0;34m*\u001b[0m \u001b[0mnp\u001b[0m\u001b[0;34m.\u001b[0m\u001b[0marctanh\u001b[0m\u001b[0;34m(\u001b[0m\u001b[0mtanhm\u001b[0m\u001b[0;34m)\u001b[0m\u001b[0;34m\u001b[0m\u001b[0m\n\u001b[0m\u001b[1;32m     16\u001b[0m \u001b[0mVm2\u001b[0m \u001b[0;34m=\u001b[0m \u001b[0;36m4\u001b[0m\u001b[0;34m/\u001b[0m\u001b[0;34m(\u001b[0m\u001b[0mq\u001b[0m\u001b[0;34m*\u001b[0m\u001b[0mb\u001b[0m\u001b[0;34m)\u001b[0m \u001b[0;34m*\u001b[0m \u001b[0mnp\u001b[0m\u001b[0;34m.\u001b[0m\u001b[0marctanh\u001b[0m\u001b[0;34m(\u001b[0m\u001b[0mtanhm\u001b[0m\u001b[0;34m)\u001b[0m\u001b[0;34m\u001b[0m\u001b[0m\n\u001b[1;32m     17\u001b[0m \u001b[0mVm3\u001b[0m \u001b[0;34m=\u001b[0m \u001b[0;36m4\u001b[0m\u001b[0;34m/\u001b[0m\u001b[0;34m(\u001b[0m\u001b[0mq\u001b[0m\u001b[0;34m*\u001b[0m\u001b[0mb\u001b[0m\u001b[0;34m)\u001b[0m \u001b[0;34m*\u001b[0m \u001b[0mnp\u001b[0m\u001b[0;34m.\u001b[0m\u001b[0marctanh\u001b[0m\u001b[0;34m(\u001b[0m\u001b[0mtanhm\u001b[0m\u001b[0;34m)\u001b[0m\u001b[0;34m\u001b[0m\u001b[0m\n",
      "\u001b[0;31mNameError\u001b[0m: name 'tanhm' is not defined"
     ]
    }
   ],
   "source": [
    "\n",
    "sig = np.arange(-5,5, 0.0001)\n",
    "tanhp1 = (-2*epsilon*k1 + np.sqrt((epsilon * k1) ** 2 + (b * q * sig) **2))/(b * q * sig)\n",
    "tanhp2 = (-2*epsilon*k2 + np.sqrt((epsilon * k2) ** 2 + (b * q * sig) **2))/(b * q * sig)\n",
    "tanhp3 = (-2*epsilon*k3 + np.sqrt((epsilon * k3) ** 2 + (b * q * sig) **2))/(b * q * sig)\n",
    "\n",
    "tanhm1 = (-2*epsilon*k1 + np.sqrt((epsilon * k1) ** 2 - (b * q * sig) **2))/(b * q * sig)\n",
    "tanhm2 = (-2*epsilon*k2 + np.sqrt((epsilon * k2) ** 2 - (b * q * sig) **2))/(b * q * sig)\n",
    "tanhm3 = (-2*epsilon*k3 + np.sqrt((epsilon * k3) ** 2 - (b * q * sig) **2))/(b * q * sig)\n",
    "\n",
    "Vp1 = 4/(q*b) * np.arctanh(tanhp1)\n",
    "Vp2 = 4/(q*b) * np.arctanh(tanhp2)\n",
    "Vp3 = 4/(q*b) * np.arctanh(tanhp3)\n",
    "\n",
    "Vm1 = 4/(q*b) * np.arctanh(tanhm)\n",
    "Vm2 = 4/(q*b) * np.arctanh(tanhm)\n",
    "Vm3 = 4/(q*b) * np.arctanh(tanhm)\n",
    "\n",
    "plt.figure(1)\n",
    "plt.title('', fontsize=16, fontweight='bold')\n",
    "plt.xlabel(r'$\\sigma$ ($C/m^2$)', fontsize=16)\n",
    "plt.ylabel(r'Voltage ($V$)', fontsize=16)\n",
    "plt.plot(sig, Vp1, 'g--', label = \"$C_b = 0.1$\")\n",
    "plt.plot(sig, Vp2, 'b--', label = \"$C_b = 0.5$\")\n",
    "plt.plot(sig, Vp3, 'r--', label = \"$C_b = 0.01$\")\n",
    "plt.legend()\n",
    "\n",
    "plt.savefig('voltage-sigma.eps', format='eps', dpi=1000, fontsize=16, fontweight='bold')\n",
    "plt.show()"
   ]
  },
  {
   "cell_type": "code",
   "execution_count": null,
   "metadata": {},
   "outputs": [],
   "source": [
    "z = 2\n",
    "e = 1.60217662E-19\n",
    "kb = 1.38064852E-23\n",
    "T = 300\n",
    "b=1/(kb*T)\n",
    "Na = 6.02E23\n",
    "Fa = Na * e\n",
    "q = e\n",
    "R = Na * k\n",
    "coef = z*e/(k*T)\n",
    "V_0 = -coef*0.15\n",
    "epsilon = 80.9 * 8.85418782E-12\n",
    "C = np.arange(0.0,1, 0.01)\n",
    "k = np.sqrt(0.1 * (z*Fa) ** 2 * C/ (R * T * epsilon))\n"
   ]
  },
  {
   "cell_type": "code",
   "execution_count": 6,
   "metadata": {},
   "outputs": [
    {
     "ename": "NameError",
     "evalue": "name 'C' is not defined",
     "output_type": "error",
     "traceback": [
      "\u001b[0;31m--------------------------------------------------------------\u001b[0m",
      "\u001b[0;31mNameError\u001b[0m                    Traceback (most recent call last)",
      "\u001b[0;32m<ipython-input-6-c070404a6269>\u001b[0m in \u001b[0;36m<module>\u001b[0;34m()\u001b[0m\n\u001b[1;32m     17\u001b[0m \u001b[0mplt\u001b[0m\u001b[0;34m.\u001b[0m\u001b[0mxlabel\u001b[0m\u001b[0;34m(\u001b[0m\u001b[0;34mr'Concentracion [$M$]'\u001b[0m\u001b[0;34m,\u001b[0m \u001b[0mfontsize\u001b[0m\u001b[0;34m=\u001b[0m\u001b[0;36m16\u001b[0m\u001b[0;34m)\u001b[0m\u001b[0;34m\u001b[0m\u001b[0m\n\u001b[1;32m     18\u001b[0m \u001b[0mplt\u001b[0m\u001b[0;34m.\u001b[0m\u001b[0mylabel\u001b[0m\u001b[0;34m(\u001b[0m\u001b[0;34mr'$\\sigma$ [$C/m^2$]'\u001b[0m\u001b[0;34m,\u001b[0m \u001b[0mfontsize\u001b[0m\u001b[0;34m=\u001b[0m\u001b[0;36m16\u001b[0m\u001b[0;34m)\u001b[0m\u001b[0;34m\u001b[0m\u001b[0m\n\u001b[0;32m---> 19\u001b[0;31m \u001b[0mplt\u001b[0m\u001b[0;34m.\u001b[0m\u001b[0mplot\u001b[0m\u001b[0;34m(\u001b[0m\u001b[0mC\u001b[0m\u001b[0;34m,\u001b[0m \u001b[0msig1\u001b[0m\u001b[0;34m,\u001b[0m \u001b[0;34m'b--'\u001b[0m\u001b[0;34m,\u001b[0m \u001b[0mlabel\u001b[0m\u001b[0;34m=\u001b[0m\u001b[0;34m'V = -0.13'\u001b[0m\u001b[0;34m)\u001b[0m\u001b[0;34m\u001b[0m\u001b[0m\n\u001b[0m\u001b[1;32m     20\u001b[0m \u001b[0mplt\u001b[0m\u001b[0;34m.\u001b[0m\u001b[0mplot\u001b[0m\u001b[0;34m(\u001b[0m\u001b[0mC\u001b[0m\u001b[0;34m,\u001b[0m \u001b[0msig2\u001b[0m\u001b[0;34m,\u001b[0m \u001b[0;34m'r--'\u001b[0m\u001b[0;34m,\u001b[0m \u001b[0mlabel\u001b[0m\u001b[0;34m=\u001b[0m\u001b[0;34m'V = -0.15'\u001b[0m\u001b[0;34m)\u001b[0m\u001b[0;34m\u001b[0m\u001b[0m\n\u001b[1;32m     21\u001b[0m \u001b[0mplt\u001b[0m\u001b[0;34m.\u001b[0m\u001b[0mplot\u001b[0m\u001b[0;34m(\u001b[0m\u001b[0mC\u001b[0m\u001b[0;34m,\u001b[0m \u001b[0msig3\u001b[0m\u001b[0;34m,\u001b[0m \u001b[0;34m'g--'\u001b[0m\u001b[0;34m,\u001b[0m \u001b[0mlabel\u001b[0m\u001b[0;34m=\u001b[0m\u001b[0;34m'V = -0.17'\u001b[0m\u001b[0;34m)\u001b[0m\u001b[0;34m\u001b[0m\u001b[0m\n",
      "\u001b[0;31mNameError\u001b[0m: name 'C' is not defined"
     ]
    },
    {
     "data": {
      "image/png": "[encoded data removed]",
      "text/plain": [
       "<matplotlib.figure.Figure at 0x1137b2518>"
      ]
     },
     "metadata": {},
     "output_type": "display_data"
    }
   ],
   "source": [
    "import matplotlib.pyplot as plt\n",
    "import numpy as np\n",
    "\n",
    "#V = np.arange(-0.4,0.4, 0.0001)\n",
    "V1 = -0.13\n",
    "V2 = -0.15\n",
    "V3 = -0.17\n",
    "\n",
    "sig1 = -4*epsilon*k/(b*q) * np.tanh(q*b*V1/4)/(np.tanh(q*b*V1/4) ** 2 - 1)\n",
    "sig2 = -4*epsilon*k/(b*q) * np.tanh(q*b*V2/4)/(np.tanh(q*b*V2/4) ** 2 - 1)\n",
    "sig3 = -4*epsilon*k/(b*q) * np.tanh(q*b*V3/4)/(np.tanh(q*b*V3/4) ** 2 - 1)\n",
    "\n",
    "\n",
    "\n",
    "plt.figure(1)\n",
    "plt.title('', fontsize=16, fontweight='bold')\n",
    "plt.xlabel(r'Concentracion [$M$]', fontsize=16)\n",
    "plt.ylabel(r'$\\sigma$ [$C/m^2$]', fontsize=16)\n",
    "plt.plot(C, sig1, 'b--', label='V = -0.13')\n",
    "plt.plot(C, sig2, 'r--', label='V = -0.15')\n",
    "plt.plot(C, sig3, 'g--', label='V = -0.17')\n",
    "plt.legend()\n",
    "\n",
    "\n",
    "plt.savefig('sigma-concentration.eps', format='eps', dpi=1000, fontsize=16, fontweight='bold')\n",
    "plt.show()"
   ]
  },
  {
   "cell_type": "code",
   "execution_count": 7,
   "metadata": {},
   "outputs": [
    {
     "name": "stderr",
     "output_type": "stream",
     "text": [
      "/anaconda3/lib/python3.6/site-packages/ipykernel_launcher.py:10: RuntimeWarning: invalid value encountered in sqrt\n",
      "  # Remove the CWD from sys.path while we load stuff.\n",
      "/anaconda3/lib/python3.6/site-packages/ipykernel_launcher.py:11: RuntimeWarning: invalid value encountered in sqrt\n",
      "  # This is added back by InteractiveShellApp.init_path()\n",
      "/anaconda3/lib/python3.6/site-packages/ipykernel_launcher.py:12: RuntimeWarning: invalid value encountered in sqrt\n",
      "  if sys.path[0] == '':\n",
      "/anaconda3/lib/python3.6/site-packages/ipykernel_launcher.py:14: RuntimeWarning: divide by zero encountered in arctanh\n",
      "  \n",
      "/anaconda3/lib/python3.6/site-packages/ipykernel_launcher.py:15: RuntimeWarning: divide by zero encountered in arctanh\n",
      "  from ipykernel import kernelapp as app\n",
      "/anaconda3/lib/python3.6/site-packages/ipykernel_launcher.py:16: RuntimeWarning: divide by zero encountered in arctanh\n",
      "  app.launch_new_instance()\n"
     ]
    },
    {
     "ename": "NameError",
     "evalue": "name 'C' is not defined",
     "output_type": "error",
     "traceback": [
      "\u001b[0;31m--------------------------------------------------------------\u001b[0m",
      "\u001b[0;31mNameError\u001b[0m                    Traceback (most recent call last)",
      "\u001b[0;32m<ipython-input-7-3735211bbe03>\u001b[0m in \u001b[0;36m<module>\u001b[0;34m()\u001b[0m\n\u001b[1;32m     24\u001b[0m \u001b[0mplt\u001b[0m\u001b[0;34m.\u001b[0m\u001b[0mxlabel\u001b[0m\u001b[0;34m(\u001b[0m\u001b[0;34mr'Concentracion ($M$)'\u001b[0m\u001b[0;34m,\u001b[0m \u001b[0mfontsize\u001b[0m\u001b[0;34m=\u001b[0m\u001b[0;36m16\u001b[0m\u001b[0;34m)\u001b[0m\u001b[0;34m\u001b[0m\u001b[0m\n\u001b[1;32m     25\u001b[0m \u001b[0mplt\u001b[0m\u001b[0;34m.\u001b[0m\u001b[0mylabel\u001b[0m\u001b[0;34m(\u001b[0m\u001b[0;34mr'Voltage ($V$)'\u001b[0m\u001b[0;34m,\u001b[0m \u001b[0mfontsize\u001b[0m\u001b[0;34m=\u001b[0m\u001b[0;36m16\u001b[0m\u001b[0;34m)\u001b[0m\u001b[0;34m\u001b[0m\u001b[0m\n\u001b[0;32m---> 26\u001b[0;31m \u001b[0mplt\u001b[0m\u001b[0;34m.\u001b[0m\u001b[0mplot\u001b[0m\u001b[0;34m(\u001b[0m\u001b[0mC\u001b[0m\u001b[0;34m,\u001b[0m \u001b[0mVp1\u001b[0m\u001b[0;34m,\u001b[0m \u001b[0;34m'g--'\u001b[0m\u001b[0;34m,\u001b[0m \u001b[0mlabel\u001b[0m \u001b[0;34m=\u001b[0m \u001b[0;34m\"$\\sigma=-0.3$\"\u001b[0m\u001b[0;34m)\u001b[0m\u001b[0;34m\u001b[0m\u001b[0m\n\u001b[0m\u001b[1;32m     27\u001b[0m \u001b[0mplt\u001b[0m\u001b[0;34m.\u001b[0m\u001b[0mplot\u001b[0m\u001b[0;34m(\u001b[0m\u001b[0mC\u001b[0m\u001b[0;34m,\u001b[0m \u001b[0mVp2\u001b[0m\u001b[0;34m,\u001b[0m \u001b[0;34m'b--'\u001b[0m\u001b[0;34m,\u001b[0m \u001b[0mlabel\u001b[0m \u001b[0;34m=\u001b[0m \u001b[0;34m\"$\\sigma=-0.4$\"\u001b[0m\u001b[0;34m)\u001b[0m\u001b[0;34m\u001b[0m\u001b[0m\n\u001b[1;32m     28\u001b[0m \u001b[0mplt\u001b[0m\u001b[0;34m.\u001b[0m\u001b[0mplot\u001b[0m\u001b[0;34m(\u001b[0m\u001b[0mC\u001b[0m\u001b[0;34m,\u001b[0m \u001b[0mVp3\u001b[0m\u001b[0;34m,\u001b[0m \u001b[0;34m'r--'\u001b[0m\u001b[0;34m,\u001b[0m \u001b[0mlabel\u001b[0m \u001b[0;34m=\u001b[0m \u001b[0;34m\"$\\sigma=-0.5$\"\u001b[0m\u001b[0;34m)\u001b[0m\u001b[0;34m\u001b[0m\u001b[0m\n",
      "\u001b[0;31mNameError\u001b[0m: name 'C' is not defined"
     ]
    },
    {
     "data": {
      "image/png": "[encoded data removed]",
      "text/plain": [
       "<matplotlib.figure.Figure at 0x112a93f28>"
      ]
     },
     "metadata": {},
     "output_type": "display_data"
    }
   ],
   "source": [
    "\n",
    "#sig = np.arange(-5,5, 0.0001)\n",
    "sig1 = -0.3\n",
    "sig2 = -0.4\n",
    "sig3 = -0.5\n",
    "tanhp1 = (-2*epsilon*k + np.sqrt((epsilon * k) ** 2 + (b * q * sig1) **2))/(b * q * sig1)\n",
    "tanhp2 = (-2*epsilon*k + np.sqrt((epsilon * k) ** 2 + (b * q * sig2) **2))/(b * q * sig2)\n",
    "tanhp3 = (-2*epsilon*k + np.sqrt((epsilon * k) ** 2 + (b * q * sig3) **2))/(b * q * sig3)\n",
    "\n",
    "tanhm1 = (-2*epsilon*k + np.sqrt((epsilon * k) ** 2 - (b * q * sig1) **2))/(b * q * sig1)\n",
    "tanhm2 = (-2*epsilon*k + np.sqrt((epsilon * k) ** 2 - (b * q * sig2) **2))/(b * q * sig2)\n",
    "tanhm3 = (-2*epsilon*k + np.sqrt((epsilon * k) ** 2 - (b * q * sig3) **2))/(b * q * sig3)\n",
    "\n",
    "Vp1 = 4/(q*b) * np.arctanh(tanhp1)\n",
    "Vp2 = 4/(q*b) * np.arctanh(tanhp2)\n",
    "Vp3 = 4/(q*b) * np.arctanh(tanhp3)\n",
    "\n",
    "Vm1 = 4/(q*b) * np.arctanh(tanhm1)\n",
    "Vm2 = 4/(q*b) * np.arctanh(tanhm2)\n",
    "Vm3 = 4/(q*b) * np.arctanh(tanhm3)\n",
    "\n",
    "plt.figure(1)\n",
    "plt.title('', fontsize=16, fontweight='bold')\n",
    "plt.xlabel(r'Concentracion ($M$)', fontsize=16)\n",
    "plt.ylabel(r'Voltage ($V$)', fontsize=16)\n",
    "plt.plot(C, Vp1, 'g--', label = \"$\\sigma=-0.3$\")\n",
    "plt.plot(C, Vp2, 'b--', label = \"$\\sigma=-0.4$\")\n",
    "plt.plot(C, Vp3, 'r--', label = \"$\\sigma=-0.5$\")\n",
    "plt.legend()\n",
    "\n",
    "plt.savefig('voltage-concentration.eps', format='eps', dpi=1000, fontsize=16, fontweight='bold')\n",
    "plt.show()"
   ]
  },
  {
   "cell_type": "code",
   "execution_count": null,
   "metadata": {},
   "outputs": [],
   "source": []
  },
  {
   "cell_type": "code",
   "execution_count": null,
   "metadata": {},
   "outputs": [],
   "source": []
  },
  {
   "cell_type": "code",
   "execution_count": null,
   "metadata": {},
   "outputs": [],
   "source": []
  }
 ],
 "metadata": {
  "kernelspec": {
   "display_name": "Python 3",
   "language": "python",
   "name": "python3"
  },
  "language_info": {
   "codemirror_mode": {
    "name": "ipython",
    "version": 3
   },
   "file_extension": ".py",
   "mimetype": "text/x-python",
   "name": "python",
   "nbconvert_exporter": "python",
   "pygments_lexer": "ipython3",
   "version": "3.6.4"
  },
  "latex_envs": {
   "LaTeX_envs_menu_present": true,
   "autoclose": false,
   "autocomplete": true,
   "bibliofile": "biblio.bib",
   "cite_by": "apalike",
   "current_citInitial": 1,
   "eqLabelWithNumbers": true,
   "eqNumInitial": 1,
   "hotkeys": {
    "equation": "Ctrl-E",
    "itemize": "Ctrl-I"
   },
   "labels_anchors": false,
   "latex_user_defs": false,
   "report_style_numbering": false,
   "user_envs_cfg": false
  }
 },
 "nbformat": 4,
 "nbformat_minor": 2
}
