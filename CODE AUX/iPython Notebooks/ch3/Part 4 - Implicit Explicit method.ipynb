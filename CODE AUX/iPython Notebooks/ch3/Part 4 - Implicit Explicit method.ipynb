{
 "cells": [
  {
   "cell_type": "markdown",
   "metadata": {},
   "source": [
    "# Implementation - Implicit Scheme Diffusion Only\n"
   ]
  },
  {
   "cell_type": "markdown",
   "metadata": {},
   "source": [
    "Define helpful functions to get the steady state solution and to print a progress bar"
   ]
  },
  {
   "cell_type": "code",
   "execution_count": 1,
   "metadata": {},
   "outputs": [],
   "source": [
    "def get_static_sol(filename):\n",
    "    file = open(filename, 'r')\n",
    "    X = []\n",
    "    Y = []\n",
    "    for line in file:\n",
    "        aux1, aux2 = line.split()\n",
    "        X.append(float(aux1))\n",
    "        Y.append(float(aux2))\n",
    "    return X, Y\n",
    "\n",
    "def printProgressBar (iteration, total, prefix = '', suffix = '', decimals = 0, length = 100, fill = '█'):\n",
    "    \"\"\"\n",
    "    Call in a loop to create terminal progress bar\n",
    "    @params:\n",
    "        iteration   - Required  : current iteration (Int)\n",
    "        total       - Required  : total iterations (Int)\n",
    "        prefix      - Optional  : prefix string (Str)\n",
    "        suffix      - Optional  : suffix string (Str)\n",
    "        decimals    - Optional  : positive number of decimals in percent complete (Int)\n",
    "        length      - Optional  : character length of bar (Int)\n",
    "        fill        - Optional  : bar fill character (Str)\n",
    "    \"\"\"\n",
    "    percent = (\"{0:.\" + str(decimals) + \"f}\").format(100 * (iteration / float(total)))\n",
    "    filledLength = int(length * iteration // total)\n",
    "    bar = fill * filledLength + '-' * (length - filledLength)\n",
    "    print('\\r%s |%s| %s%% %s' % (prefix, bar, percent, suffix), end = '\\r')\n",
    "    # Print New Line on Complete\n",
    "    if iteration == total: \n",
    "        print()"
   ]
  },
  {
   "cell_type": "markdown",
   "metadata": {},
   "source": [
    "Next, we need to define the constants for the model. In particular, we need to define the ionic force $\\kappa$, which has the following expression\n",
    "\n",
    "\\begin{equation}\n",
    "\\kappa = \\sqrt{\\frac{(zF)^2}{(RT)^2\\epsilon}} = \\sqrt{\\frac{(ze)^2}{(k_bT)^2\\epsilon}}\n",
    "\\end{equation}\n",
    "\n",
    "Also we need to define the diffusion coefficient $D$.\n",
    "\n",
    "Since we are working with the dimentionless potential\n",
    "$$\\Psi = \\frac{ze}{k_bT}\\phi$$ \n",
    "the border condition for the potential must be transformed acordingly: $\\bar{V_0} = \\frac{ze}{k_bT} V_0$"
   ]
  },
  {
   "cell_type": "code",
   "execution_count": 2,
   "metadata": {},
   "outputs": [
    {
     "name": "stdout",
     "output_type": "stream",
     "text": [
      "retrieving files\n",
      "-11.577098546694161\n"
     ]
    }
   ],
   "source": [
    "import numpy as np\n",
    "\n",
    "T = 300\n",
    "coef = 2 * 1.60217662E-19 / (1.38064852E-23 * T)\n",
    "V_0 = -coef * 0.15\n",
    "Cb = 0.1\n",
    "\n",
    "epsilon = 80.9 * 8.85418782E-12\n",
    "k = np.sqrt((coef)**2 / epsilon)\n",
    "D1 = 1.05\n",
    "D2 = 0.76\n",
    "print(\"retrieving files\")\n",
    "\n",
    "x_cp, numCp = np.asarray(get_static_sol('../ch2/results-steadystate/cp-num-r5e-08.txt'))\n",
    "x_cm, numCm = np.asarray(get_static_sol('../ch2/results-steadystate/cm-num-r5e-08.txt'))\n",
    "x_psi, numPsi = np.asarray(get_static_sol('../ch2/results-steadystate/potential-num-r5e-08.txt'))\n",
    "\n",
    "\n",
    "Psi0 = numPsi[0]\n",
    "print(Psi0)"
   ]
  },
  {
   "cell_type": "markdown",
   "metadata": {},
   "source": [
    "### Define Mesh Parameters\n",
    "\n",
    "First, we define the mesh parameters\n",
    "$$x = [0,\\delta]$$\n",
    "$$t = [0, 1e-2]$$\n",
    "where x we divide in M intervales and t in N intervals.\n",
    "\n"
   ]
  },
  {
   "cell_type": "code",
   "execution_count": 3,
   "metadata": {},
   "outputs": [],
   "source": [
    "import numpy as np\n",
    "N = 500\n",
    "M = 1000\n",
    "length = 1.\n",
    "Time = 1./10000\n",
    "dx = length/M\n",
    "dt = Time/N\n",
    "Cp = np.zeros([N,M])\n",
    "Cm = np.zeros([N,M])\n",
    "Psi  = np.zeros([N,M])\n",
    "E = np.zeros([N,M])"
   ]
  },
  {
   "cell_type": "markdown",
   "metadata": {},
   "source": [
    "Now we compute the $\\rho = D\\frac{dt}{dx^2}$ to check if the mesh is sufficiently small in order for the finite difference method to converge. If $\\rho>0,5$ we rise an error."
   ]
  },
  {
   "cell_type": "code",
   "execution_count": 4,
   "metadata": {},
   "outputs": [
    {
     "name": "stdout",
     "output_type": "stream",
     "text": [
      "0.21000000000000005\n",
      "0.15200000000000002\n"
     ]
    }
   ],
   "source": [
    "rho1 = dt * D1 / (dx) ** 2\n",
    "rho2 = dt * D2 / (dx) ** 2\n",
    "print(rho1)\n",
    "print(rho2)\n",
    "if rho1 > 0.5:\n",
    "    raise ValueError('the rho1 parameter is greater than the allowed tolerance')\n",
    "if rho2 > 0.5:\n",
    "    raise ValueError('the rho2 parameter is greater than the allowed tolerance')"
   ]
  },
  {
   "cell_type": "markdown",
   "metadata": {},
   "source": [
    "Defining the initial conditions, which are \n",
    "$$C_s(0,x) = C_b$$\n",
    "\n",
    "(well-stired solution) and \n",
    "$$\\Psi(0,x) = 0$$ "
   ]
  },
  {
   "cell_type": "code",
   "execution_count": 6,
   "metadata": {},
   "outputs": [],
   "source": [
    "Cp[0,0:M-1] = Cb #*np.random.rand(M-1)\n",
    "Cm[0,0:M-1] = Cb #*np.random.rand(M-1)\n",
    "Psi[0,:] = 0#-np.random.rand(M)\n",
    "Psi[0,0] = Psi0\n",
    "Psi[:,M-1] = 0\n",
    "\n",
    "numCp = Cb\n",
    "numCm = Cb\n",
    "numPsi = Psi0\n"
   ]
  },
  {
   "cell_type": "markdown",
   "metadata": {},
   "source": [
    "Recall that the Poisson equation is approximated in this scheme as\n",
    "\n",
    "\\begin{eqnarray}\n",
    "\\nabla^2 \\Psi = -(C_+ - C_-) = -\\Delta C\\\\\n",
    "\\approx \\Psi^{k+1} - 2\\Psi^{k} + \\Psi^{k-1} = -\\Delta x^2 (C_+-C_-)\n",
    "\\end{eqnarray}\n",
    "\n",
    "The discrete equation forms a vector\n",
    "\\begin{equation}\n",
    "    \\underline{\\Psi} = (\\Psi^{0}, \\Psi^{1}, ..., \\Psi^{M-1}).\n",
    "\\end{equation}\n",
    "\n",
    "Thus, the descrete Poisson equation is writen as a linear problem\n",
    "\n",
    "\\begin{equation}\n",
    "    A\\underline{\\Psi} = -\\Delta x^2 \\Delta \\underline{C} + \\underline{b}\n",
    "\\end{equation}\n",
    "\n",
    "Where \n",
    "\n",
    "\\begin{equation}\n",
    "    A =\\begin{bmatrix}\n",
    "    -2       & 1  & 0 & \\dots & 0   & 0\\\\\n",
    "    1       & -2 & 1 & \\dots & 0 & 0 \\\\\n",
    "    & & & \\dots & & &  \\\\\n",
    "    & & & \\dots & & &  \\\\\n",
    "   0       & 0 & 0 & \\dots & -2 & 1 \\\\\n",
    "   0       & 0 & 0 & \\dots & 1 & -2 \n",
    "\\end{bmatrix}\n",
    "\\end{equation}\n",
    "\n",
    "\n",
    "\\begin{equation}\n",
    "    \\underline{b} =\\begin{bmatrix}\n",
    "    -\\Psi_0       \\\\\n",
    "    0       \\\\\n",
    "     \\vdots \\\\\n",
    "   0    \n",
    "\\end{bmatrix}\n",
    "\\end{equation}"
   ]
  },
  {
   "cell_type": "code",
   "execution_count": 7,
   "metadata": {},
   "outputs": [
    {
     "name": "stdout",
     "output_type": "stream",
     "text": [
      "creating coefficient matrix\n",
      "done creating coefficient matrix\n",
      "Setting up b vector on the Psi system\n",
      "done...\n"
     ]
    }
   ],
   "source": [
    "import numpy as np\n",
    "from numpy.linalg import inv\n",
    "import scipy as sp\n",
    "import scipy.sparse\n",
    "print(\"creating coefficient matrix\")\n",
    "\n",
    "a = np.ones(M)\n",
    "b1 = -2 * np.ones(M)\n",
    "c = np.ones(M) \n",
    "positions = [-1, 0, 1]\n",
    "A = sp.sparse.spdiags(np.array([a, b1, c]), positions, M-3, M-3).todense()\n",
    "Ainv = np.asarray(np.linalg.inv(A))\n",
    "print(\"done creating coefficient matrix\")\n",
    "print(\"Setting up b vector on the Psi system\")\n",
    "b = np.zeros([N,M])\n",
    "print(\"done...\")"
   ]
  },
  {
   "cell_type": "code",
   "execution_count": 8,
   "metadata": {},
   "outputs": [
    {
     "name": "stdout",
     "output_type": "stream",
     "text": [
      "System is ready to be solved... starting iteration now\n"
     ]
    },
    {
     "ename": "ValueError",
     "evalue": "number of diagonals (1) does not match the number of offsets (2)",
     "output_type": "error",
     "traceback": [
      "\u001b[0;31m--------------------------------------------------------------\u001b[0m",
      "\u001b[0;31mValueError\u001b[0m                   Traceback (most recent call last)",
      "\u001b[0;32m<ipython-input-8-3afd2edad646>\u001b[0m in \u001b[0;36m<module>\u001b[0;34m()\u001b[0m\n\u001b[1;32m     23\u001b[0m     \u001b[0mv2\u001b[0m \u001b[0;34m=\u001b[0m \u001b[0;34m-\u001b[0m\u001b[0;34m(\u001b[0m\u001b[0mPsi\u001b[0m\u001b[0;34m[\u001b[0m\u001b[0mn\u001b[0m\u001b[0;34m,\u001b[0m \u001b[0;36m2\u001b[0m\u001b[0;34m:\u001b[0m\u001b[0;34m]\u001b[0m \u001b[0;34m-\u001b[0m \u001b[0mPsi\u001b[0m\u001b[0;34m[\u001b[0m\u001b[0mn\u001b[0m\u001b[0;34m,\u001b[0m\u001b[0;36m1\u001b[0m\u001b[0;34m:\u001b[0m\u001b[0;34m-\u001b[0m\u001b[0;36m1\u001b[0m\u001b[0;34m]\u001b[0m\u001b[0;34m)\u001b[0m\u001b[0;34m\u001b[0m\u001b[0m\n\u001b[1;32m     24\u001b[0m     \u001b[0mpositions\u001b[0m \u001b[0;34m=\u001b[0m \u001b[0;34m[\u001b[0m\u001b[0;36m1\u001b[0m\u001b[0;34m,\u001b[0m\u001b[0;36m2\u001b[0m\u001b[0;34m]\u001b[0m\u001b[0;34m\u001b[0m\u001b[0m\n\u001b[0;32m---> 25\u001b[0;31m     \u001b[0mD1\u001b[0m \u001b[0;34m=\u001b[0m \u001b[0msp\u001b[0m\u001b[0;34m.\u001b[0m\u001b[0msparse\u001b[0m\u001b[0;34m.\u001b[0m\u001b[0mspdiags\u001b[0m\u001b[0;34m(\u001b[0m\u001b[0mnp\u001b[0m\u001b[0;34m.\u001b[0m\u001b[0marray\u001b[0m\u001b[0;34m(\u001b[0m\u001b[0;34m[\u001b[0m\u001b[0mv1\u001b[0m\u001b[0;34m,\u001b[0m \u001b[0mv2\u001b[0m\u001b[0;34m]\u001b[0m\u001b[0;34m)\u001b[0m\u001b[0;34m,\u001b[0m \u001b[0mpositions\u001b[0m\u001b[0;34m,\u001b[0m \u001b[0mM\u001b[0m\u001b[0;34m-\u001b[0m\u001b[0;36m3\u001b[0m\u001b[0;34m,\u001b[0m \u001b[0mM\u001b[0m\u001b[0;34m-\u001b[0m\u001b[0;36m3\u001b[0m\u001b[0;34m)\u001b[0m\u001b[0;34m.\u001b[0m\u001b[0mtodense\u001b[0m\u001b[0;34m(\u001b[0m\u001b[0;34m)\u001b[0m\u001b[0;34m\u001b[0m\u001b[0m\n\u001b[0m\u001b[1;32m     26\u001b[0m     \u001b[0mD2\u001b[0m \u001b[0;34m=\u001b[0m \u001b[0msp\u001b[0m\u001b[0;34m.\u001b[0m\u001b[0msparse\u001b[0m\u001b[0;34m.\u001b[0m\u001b[0mspdiags\u001b[0m\u001b[0;34m(\u001b[0m\u001b[0mnp\u001b[0m\u001b[0;34m.\u001b[0m\u001b[0marray\u001b[0m\u001b[0;34m(\u001b[0m\u001b[0;34m[\u001b[0m\u001b[0;34m-\u001b[0m\u001b[0mv1\u001b[0m\u001b[0;34m,\u001b[0m \u001b[0;34m-\u001b[0m\u001b[0mv2\u001b[0m\u001b[0;34m]\u001b[0m\u001b[0;34m)\u001b[0m\u001b[0;34m,\u001b[0m \u001b[0mpositions\u001b[0m\u001b[0;34m,\u001b[0m \u001b[0mM\u001b[0m\u001b[0;34m-\u001b[0m\u001b[0;36m3\u001b[0m\u001b[0;34m,\u001b[0m \u001b[0mM\u001b[0m\u001b[0;34m-\u001b[0m\u001b[0;36m3\u001b[0m\u001b[0;34m)\u001b[0m\u001b[0;34m.\u001b[0m\u001b[0mtodense\u001b[0m\u001b[0;34m(\u001b[0m\u001b[0;34m)\u001b[0m\u001b[0;34m\u001b[0m\u001b[0m\n\u001b[1;32m     27\u001b[0m     \u001b[0mR1\u001b[0m \u001b[0;34m=\u001b[0m \u001b[0mB\u001b[0m \u001b[0;34m+\u001b[0m \u001b[0mD1\u001b[0m\u001b[0;34m\u001b[0m\u001b[0m\n",
      "\u001b[0;32m/anaconda3/lib/python3.6/site-packages/scipy/sparse/construct.py\u001b[0m in \u001b[0;36mspdiags\u001b[0;34m(data, diags, m, n, format)\u001b[0m\n\u001b[1;32m     59\u001b[0m \u001b[0;34m\u001b[0m\u001b[0m\n\u001b[1;32m     60\u001b[0m     \"\"\"\n\u001b[0;32m---> 61\u001b[0;31m     \u001b[0;32mreturn\u001b[0m \u001b[0mdia_matrix\u001b[0m\u001b[0;34m(\u001b[0m\u001b[0;34m(\u001b[0m\u001b[0mdata\u001b[0m\u001b[0;34m,\u001b[0m \u001b[0mdiags\u001b[0m\u001b[0;34m)\u001b[0m\u001b[0;34m,\u001b[0m \u001b[0mshape\u001b[0m\u001b[0;34m=\u001b[0m\u001b[0;34m(\u001b[0m\u001b[0mm\u001b[0m\u001b[0;34m,\u001b[0m\u001b[0mn\u001b[0m\u001b[0;34m)\u001b[0m\u001b[0;34m)\u001b[0m\u001b[0;34m.\u001b[0m\u001b[0masformat\u001b[0m\u001b[0;34m(\u001b[0m\u001b[0mformat\u001b[0m\u001b[0;34m)\u001b[0m\u001b[0;34m\u001b[0m\u001b[0m\n\u001b[0m\u001b[1;32m     62\u001b[0m \u001b[0;34m\u001b[0m\u001b[0m\n\u001b[1;32m     63\u001b[0m \u001b[0;34m\u001b[0m\u001b[0m\n",
      "\u001b[0;32m/anaconda3/lib/python3.6/site-packages/scipy/sparse/dia.py\u001b[0m in \u001b[0;36m__init__\u001b[0;34m(self, arg1, shape, dtype, copy)\u001b[0m\n\u001b[1;32m    141\u001b[0m             raise ValueError('number of diagonals (%d) '\n\u001b[1;32m    142\u001b[0m                     \u001b[0;34m'does not match the number of offsets (%d)'\u001b[0m\u001b[0;34m\u001b[0m\u001b[0m\n\u001b[0;32m--> 143\u001b[0;31m                     % (self.data.shape[0], len(self.offsets)))\n\u001b[0m\u001b[1;32m    144\u001b[0m \u001b[0;34m\u001b[0m\u001b[0m\n\u001b[1;32m    145\u001b[0m         \u001b[0;32mif\u001b[0m \u001b[0mlen\u001b[0m\u001b[0;34m(\u001b[0m\u001b[0mnp\u001b[0m\u001b[0;34m.\u001b[0m\u001b[0munique\u001b[0m\u001b[0;34m(\u001b[0m\u001b[0mself\u001b[0m\u001b[0;34m.\u001b[0m\u001b[0moffsets\u001b[0m\u001b[0;34m)\u001b[0m\u001b[0;34m)\u001b[0m \u001b[0;34m!=\u001b[0m \u001b[0mlen\u001b[0m\u001b[0;34m(\u001b[0m\u001b[0mself\u001b[0m\u001b[0;34m.\u001b[0m\u001b[0moffsets\u001b[0m\u001b[0;34m)\u001b[0m\u001b[0;34m:\u001b[0m\u001b[0;34m\u001b[0m\u001b[0m\n",
      "\u001b[0;31mValueError\u001b[0m: number of diagonals (1) does not match the number of offsets (2)"
     ]
    }
   ],
   "source": [
    "print(\"System is ready to be solved... starting iteration now\")\n",
    "from scipy.integrate import trapz\n",
    "\n",
    "Cp[0,M-1] = Cb\n",
    "Cm[0,M-1] = Cb\n",
    "Psi[0,M-1] = 0\n",
    "Psi[0,0] = Psi0\n",
    "#r = 0.001\n",
    "sig = -2 * np.tanh(Psi0/4)/(np.tanh(Psi0/4)**2-1)\n",
    "\n",
    "a = (1 + rho1) * np.ones(M)\n",
    "b1 = -2 * rho1 * np.ones(M)\n",
    "c = rho1 * np.ones(M) \n",
    "B = sp.sparse.spdiags(np.array([a, b1, c]), positions, M-3, M-3).todense()\n",
    "for n in range(0,N-1):\n",
    "    Cp[n+1,M-1] = Cb\n",
    "    Cm[n+1,M-1] = Cb\n",
    "    Cp[n+1,M-2] = Cb\n",
    "    Cm[n+1,M-2] = Cb\n",
    "    Psi[n+1,0] = Psi0\n",
    "    Psi[n+1,M-1] = 0\n",
    "    v1 = -(Psi[n,1:] - Psi[n,:-1])\n",
    "    v2 = -(Psi[n, 2:] - Psi[n,1:-1])\n",
    "    positions = [1,2]\n",
    "    D1 = sp.sparse.spdiags(np.array([v1, v2]), positions, M-3, M-3).todense()\n",
    "    D2 = sp.sparse.spdiags(np.array([-v1, -v2]), positions, M-3, M-3).todense()\n",
    "    R1 = B + D1\n",
    "    R2 = B + D2\n",
    "    Cp[n+1,:-2] = R1.dot(Cp[n,:-2])\n",
    "    Cm[n+1,:-2] = R1.dot(Cm[n,:-2])\n",
    "    Cp[n+1,-2] = rho1 * Cp[n,-2] - rho1 * Cb * (Psi[n, -3] - Psi[n,-2])\n",
    "    Cm[n+1,-2] = rho2 * Cp[n,-2] + rho2 * Cb * (Psi[n, -3] - Psi[n,-2])\n",
    "    \n",
    "    #for j in range(0, M-2):\n",
    "        #Compute next value of concentrations using previous ones\n",
    "    #    Cp[n + 1, j] = (1 + rho1) * Cp[n, j] + rho1 * (-2 - (Psi[n, j+1] - Psi[n,j])) * Cp[n,j+1] + rho1 * (1 - (Psi[n, j+2] - Psi[n,j+1])) * Cp[n,j+2]\n",
    "    #    Cm[n + 1, j] = (1 + rho2) * Cm[n, j] + rho2 * (-2 + (Psi[n, j+1] - Psi[n,j])) * Cm[n,j+1] + rho2 * (1 + (Psi[n, j+2] - Psi[n,j+1])) * Cm[n,j+2]\n",
    "    #    b[n+1,j] = dx ** 2 * (Cp[n+1,j] - Cm[n+1, j])\n",
    "    \n",
    "    b[n+1,:-2] = (Cp[n,1:-1] - Cm[n,1,-1])\n",
    "    b[n+1,1] = b[n+1,1] + Psi0\n",
    "    Psi[n+1,1:M-2] = - Ainv.dot(b[n+1,1:M-2])\n",
    "    \n",
    "    #for i in range(1, M-1):\n",
    "    #    E[n+1,i] = trapz(b[n+1,i:])    \n",
    "    \n",
    "    #for i in range(1, M-1):\n",
    "    #    Psi[n+1,i] = trapz(E[n+1,i:])    \n",
    "    \n",
    "    \n",
    "    \n",
    "    print(\"\\rCompleted: \" + \"time axis: \" + str(\"{0:.2f}\".format((n/(N-2)) * 100)) + \" %\", end=\"\")\n",
    "    \n",
    "    \n",
    "print('\\a')\n",
    "print(\"\\n... done computing\")\n"
   ]
  },
  {
   "cell_type": "code",
   "execution_count": null,
   "metadata": {},
   "outputs": [],
   "source": [
    "from __future__ import print_function\n",
    "from ipywidgets import interact, interactive, fixed, interact_manual\n",
    "import ipywidgets as widgets\n",
    "import matplotlib.pyplot as plt\n",
    "\n",
    "def f(t):\n",
    "    x = np.linspace(0, length, M)\n",
    "    plt.figure(figsize=(20,10))\n",
    "    plt.subplot(1, 3, 1)\n",
    "    plt.title('$\\Psi$')\n",
    "    plt.plot(x, Psi[t,:])\n",
    "    plt.subplot(1, 3, 2)\n",
    "    plt.ylim(0,10)\n",
    "    plt.title('$C_+$')\n",
    "    plt.plot(Cp[t,1:])\n",
    "    plt.subplot(1, 3, 3)\n",
    "    plt.ylim(0,10)\n",
    "    plt.title('$C_-$')\n",
    "    plt.plot(Cm[t,1:])\n",
    "    plt.show()\n",
    "\n",
    "\n",
    "interact(f, t=widgets.IntSlider(min=0,max=N-1,step=1,value=0));"
   ]
  },
  {
   "cell_type": "code",
   "execution_count": null,
   "metadata": {},
   "outputs": [],
   "source": []
  },
  {
   "cell_type": "code",
   "execution_count": null,
   "metadata": {},
   "outputs": [],
   "source": []
  }
 ],
 "metadata": {
  "kernel_info": {
   "name": "python3"
  },
  "kernelspec": {
   "display_name": "Python 3",
   "language": "python",
   "name": "python3"
  },
  "language_info": {
   "codemirror_mode": {
    "name": "ipython",
    "version": 3
   },
   "file_extension": ".py",
   "mimetype": "text/x-python",
   "name": "python",
   "nbconvert_exporter": "python",
   "pygments_lexer": "ipython3",
   "version": "3.7.0"
  },
  "latex_envs": {
   "LaTeX_envs_menu_present": true,
   "autoclose": false,
   "autocomplete": true,
   "bibliofile": "biblio.bib",
   "cite_by": "apalike",
   "current_citInitial": 1,
   "eqLabelWithNumbers": true,
   "eqNumInitial": 1,
   "hotkeys": {
    "equation": "Ctrl-E",
    "itemize": "Ctrl-I"
   },
   "labels_anchors": false,
   "latex_user_defs": false,
   "report_style_numbering": false,
   "user_envs_cfg": false
  },
  "nteract": {
   "version": "0.11.6"
  }
 },
 "nbformat": 4,
 "nbformat_minor": 2
}
