{
 "cells": [
  {
   "cell_type": "markdown",
   "metadata": {
    "collapsed": true
   },
   "source": [
    "# Numerical Solution To The Steady State Problem\n"
   ]
  },
  {
   "cell_type": "markdown",
   "metadata": {},
   "source": [
    " "
   ]
  },
  {
   "cell_type": "code",
   "execution_count": 2,
   "metadata": {},
   "outputs": [
    {
     "name": "stderr",
     "output_type": "stream",
     "text": [
      "/anaconda3/lib/python3.6/site-packages/ipykernel_launcher.py:32: RuntimeWarning: overflow encountered in double_scalars\n",
      "/anaconda3/lib/python3.6/site-packages/ipykernel_launcher.py:33: RuntimeWarning: overflow encountered in double_scalars\n",
      "/anaconda3/lib/python3.6/site-packages/ipykernel_launcher.py:34: RuntimeWarning: invalid value encountered in double_scalars\n",
      "/Users/atescobar/Desktop/OUTBOX/Avance FONDEF/CODE/iPython Notebooks/numericMethods/ode/run_kut4.py:19: RuntimeWarning: invalid value encountered in add\n",
      "  K1 = h*F(x + h/2.0, y + K0/2.0)\n",
      "/Users/atescobar/Desktop/OUTBOX/Avance FONDEF/CODE/iPython Notebooks/numericMethods/ode/run_kut4.py:22: RuntimeWarning: invalid value encountered in add\n",
      "  return (K0 + 2.0*K1 + 2.0*K2 + K3)/6.0\n",
      "/Users/atescobar/Desktop/OUTBOX/Avance FONDEF/CODE/iPython Notebooks/numericMethods/rootFinding/ridders.py:24: RuntimeWarning: overflow encountered in double_scalars\n",
      "  s = math.sqrt(fc**2 - fa*fb)\n"
     ]
    },
    {
     "name": "stdout",
     "output_type": "stream",
     "text": [
      "Root found!: x = 0.0004649674238522516 => r(x) = -0.0007093262973290463\n",
      "Tolerance: 0.01\n",
      "Border condition at interface is: -11.60355\n",
      "Obtained border condition with shooting method: -11.596290661945364\n",
      "Obtained border condition in the bulk: 0.0004643597364045725\n",
      "Shooting error: -0.0007093262973290463\n"
     ]
    },
    {
     "ename": "FileNotFoundError",
     "evalue": "[Errno 2] No such file or directory: './results/potential-num-r5e-08.txt'",
     "output_type": "error",
     "traceback": [
      "\u001b[0;31m-------------------------------------------------------------\u001b[0m",
      "\u001b[0;31mFileNotFoundError\u001b[0m           Traceback (most recent call last)",
      "\u001b[0;32m<ipython-input-2-68a60e4918d3>\u001b[0m in \u001b[0;36m<module>\u001b[0;34m()\u001b[0m\n\u001b[1;32m    139\u001b[0m         \u001b[0;31m#plt.show()\u001b[0m\u001b[0;34m\u001b[0m\u001b[0;34m\u001b[0m\u001b[0m\n\u001b[1;32m    140\u001b[0m \u001b[0;34m\u001b[0m\u001b[0m\n\u001b[0;32m--> 141\u001b[0;31m         \u001b[0mfile\u001b[0m \u001b[0;34m=\u001b[0m \u001b[0mopen\u001b[0m\u001b[0;34m(\u001b[0m\u001b[0;34m'./results/potential-num-r'\u001b[0m\u001b[0;34m+\u001b[0m\u001b[0mstr\u001b[0m\u001b[0;34m(\u001b[0m\u001b[0mr0\u001b[0m\u001b[0;34m)\u001b[0m\u001b[0;34m+\u001b[0m\u001b[0;34m'.txt'\u001b[0m\u001b[0;34m,\u001b[0m \u001b[0;34m'w'\u001b[0m\u001b[0;34m)\u001b[0m\u001b[0;34m\u001b[0m\u001b[0m\n\u001b[0m\u001b[1;32m    142\u001b[0m         \u001b[0mfile2\u001b[0m \u001b[0;34m=\u001b[0m \u001b[0mopen\u001b[0m\u001b[0;34m(\u001b[0m\u001b[0;34m'./results/cp-num-r'\u001b[0m\u001b[0;34m+\u001b[0m\u001b[0mstr\u001b[0m\u001b[0;34m(\u001b[0m\u001b[0mr0\u001b[0m\u001b[0;34m)\u001b[0m\u001b[0;34m+\u001b[0m\u001b[0;34m'.txt'\u001b[0m\u001b[0;34m,\u001b[0m \u001b[0;34m'w'\u001b[0m\u001b[0;34m)\u001b[0m\u001b[0;34m\u001b[0m\u001b[0m\n\u001b[1;32m    143\u001b[0m         \u001b[0mfile3\u001b[0m \u001b[0;34m=\u001b[0m \u001b[0mopen\u001b[0m\u001b[0;34m(\u001b[0m\u001b[0;34m'./results/cm-num-r'\u001b[0m\u001b[0;34m+\u001b[0m\u001b[0mstr\u001b[0m\u001b[0;34m(\u001b[0m\u001b[0mr0\u001b[0m\u001b[0;34m)\u001b[0m\u001b[0;34m+\u001b[0m\u001b[0;34m'.txt'\u001b[0m\u001b[0;34m,\u001b[0m \u001b[0;34m'w'\u001b[0m\u001b[0;34m)\u001b[0m\u001b[0;34m\u001b[0m\u001b[0m\n",
      "\u001b[0;31mFileNotFoundError\u001b[0m: [Errno 2] No such file or directory: './results/potential-num-r5e-08.txt'"
     ]
    }
   ],
   "source": [
    "from numericMethods.ode.run_kut4 import integrate\n",
    "from numericMethods.rootFinding.ridders import ridder\n",
    "import numpy as np\n",
    "from math import isnan\n",
    "\n",
    "\n",
    "\n",
    "#Define the initial conditions as a function of u - in the shooting method we don't know the proper initial condition for E(0)\n",
    "#such that the condition phi(d)=V0, where d is the laminar flux region.\n",
    "\n",
    "\n",
    "#reactRate = [5E-3, 3E-3, 5E-3]\n",
    "reactRate = [5E-8, 3E-8, 1E-8]\n",
    "for p in range(0,len(reactRate)):\n",
    "\n",
    "    def init(u):\n",
    "        return np.array([0.1, 0.1, u, 0])\n",
    "\n",
    "    # Define the function F(x,y) such that y' = F(x,y)\n",
    "    def F(x,y):\n",
    "        #C plus\n",
    "        Cp =  y[0]\n",
    "        #C minus\n",
    "        Cm = y[1]\n",
    "        #E electric field\n",
    "        E = y[2]\n",
    "        #Electric potential\n",
    "        V = y[3]\n",
    "        #Function\n",
    "        #r0 = r/k\n",
    "        F = np.zeros(4)\n",
    "        F[0] = Cp*E - r0\n",
    "        F[1] = -Cm*E\n",
    "        F[2] = (Cp-Cm)\n",
    "        F[3] = -E\n",
    "        return F\n",
    "\n",
    "    def invert(A):\n",
    "        B = []\n",
    "        N = len(A)\n",
    "        for i in range(0,N):\n",
    "            B.append(A[N-1-i])\n",
    "        return np.array(B)\n",
    "\n",
    "\n",
    "    def find_not_nan(L):\n",
    "        for i in range(0,len(L)-1):\n",
    "            if(isnan(L[len(L)-1-i]) == False):\n",
    "                return len(L)-1-i\n",
    "\n",
    "    def r(u):\n",
    "        X,Y = integrate(F, xStart, init(u), xStop, step)\n",
    "        V_u = Y[-1,3]\n",
    "        if(isnan(V_u)):\n",
    "            index = int(find_not_nan(Y[:,3]))\n",
    "            V_u = Y[index,3]\n",
    "\n",
    "        return (V_u-V_0)/V_0\n",
    "\n",
    "    #Here we start the algorithm to find de numeric solution to the system defined by y'=F(x,y). Note that here y\n",
    "    #is a vector with four components\n",
    "\n",
    "    #Define integration range.\n",
    "\n",
    "    xStop = 20.0\n",
    "    xStart = 0.0\n",
    "\n",
    "    #Define the number of steps of integration.\n",
    "    N = 1E3\n",
    "    step = (xStop-xStart)/N\n",
    "    r0 = reactRate[p]\n",
    "    u1 = 10\n",
    "    u2 = 0\n",
    "\n",
    "    z = 2\n",
    "    e = 1.60217662E-19\n",
    "    k = 1.38064852E-23\n",
    "    T = 300\n",
    "    Na = 6.02E23\n",
    "    Fa = Na * e\n",
    "    R = Na * k\n",
    "    coef = z*e/(k*T)\n",
    "    V_0 = -coef*0.15\n",
    "\n",
    "    epsilon = 80.9 * 8.85418782E-12\n",
    "    k = np.sqrt(0.1 * (z*Fa) ** 2/ (R * T * epsilon))\n",
    "\n",
    "    u = ridder(r, u1, u2)\n",
    "\n",
    "    #Plot results, if initial condition for E(0) is found.\n",
    "\n",
    "\n",
    "    import matplotlib.pyplot as plt\n",
    "\n",
    "    if (u != None):\n",
    "        X,Y = integrate(F, xStart, init(u), xStop, step)\n",
    "        Cp = invert(Y[:,0])\n",
    "        Cm = invert(Y[:,1])\n",
    "        E = invert(Y[:,2])\n",
    "        phi = invert(Y[:,3])\n",
    "        xi = X\n",
    "        print(\"Border condition at interface is: \" + str(-77.357*0.15))\n",
    "        print(\"Obtained border condition with shooting method: \" + str(phi[0]))\n",
    "        print(\"Obtained border condition in the bulk: \" + str(E[-1]))\n",
    "        print(\"Shooting error: \" + str((phi[0]-V_0)/V_0))\n",
    "        \n",
    "\n",
    "    #Plot electric potential\n",
    "        plt.figure(1)\n",
    "        plt.title('Numeric Potential', fontsize=16, fontweight='bold')\n",
    "        plt.xlabel(r'$\\xi = \\kappa x$', fontsize=16)\n",
    "        plt.ylabel(r'Dimentionless potential ', fontsize=16)\n",
    "        plt.plot(X[:], phi, 'g', label = \"Potential\")\n",
    "        plt.axis([xStart, xStop, -20, -0.0])\n",
    "        plt.legend()\n",
    "        plt.savefig('potential.eps', format='eps', dpi=1000, fontsize=16, fontweight='bold')\n",
    "        #plt.show()\n",
    "        \n",
    "        #Plot electric field\n",
    "        plt.figure(2)\n",
    "        plt.plot(X[:], E, 'g', label = \"Electric Field\")\n",
    "        plt.axis([xStart, xStop, 0.0, 100])\n",
    "        plt.legend()\n",
    "        plt.savefig('Efield.eps', format='eps', dpi=1000, fontsize=16, fontweight='bold')\n",
    "        #plt.show()\n",
    "\n",
    "        #Plot Concetration\n",
    "        plt.figure(3)\n",
    "        plt.title('Numeric Concentration', fontsize=16, fontweight='bold')\n",
    "        plt.xlabel(r'$\\xi = \\kappa x$', fontsize=16)\n",
    "        plt.ylabel(r'Molar Concentration ', fontsize=16)\n",
    "        plt.plot(X[:], Cp, 'b', label = \"Concentration +\")\n",
    "        plt.axis([xStart, xStop, 0, 1])\n",
    "        plt.plot(X[:], Cm, 'r', label = \"Concentration -\")\n",
    "        plt.legend()\n",
    "        \n",
    "        #plt.savefig('Concentration-num-'+str(r0)+'.eps', format='eps', dpi=1000, fontsize=16, fontweight='bold')\n",
    "\n",
    "        #plt.show()\n",
    "\n",
    "        file = open('./results-steadystate/potential-num-r'+str(r0)+'.txt', 'w')\n",
    "        file2 = open('./results-steadystate/cp-num-r'+str(r0)+'.txt', 'w')\n",
    "        file3 = open('./results-steadystate/cm-num-r'+str(r0)+'.txt', 'w')\n",
    "        file4 = open('./results-steadystate/E-num-r' + str(r0) + '.txt', 'w')\n",
    "\n",
    "\n",
    "        for i in range(0, len(xi)):\n",
    "            file.write(str(xi[i]) + \"\\t\" +  str(phi[i]) + \"\\n\")\n",
    "            file2.write(str(xi[i]) + \"\\t\" +  str(Cp[i]) + \"\\n\")\n",
    "            file3.write(str(xi[i]) + \"\\t\" +  str(Cm[i]) + \"\\n\")\n",
    "            file4.write(str(xi[i]) + \"\\t\" + str(E[i]) + \"\\n\")\n",
    "        file.close()\n",
    "        file2.close()\n",
    "        file3.close()\n",
    "        file4.close()\n",
    "\n",
    "\n"
   ]
  },
  {
   "cell_type": "markdown",
   "metadata": {},
   "source": [
    "\n"
   ]
  },
  {
   "cell_type": "code",
   "execution_count": null,
   "metadata": {},
   "outputs": [],
   "source": [
    "\n"
   ]
  },
  {
   "cell_type": "markdown",
   "metadata": {
    "scrolled": true
   },
   "source": []
  },
  {
   "cell_type": "code",
   "execution_count": null,
   "metadata": {},
   "outputs": [],
   "source": []
  },
  {
   "cell_type": "markdown",
   "metadata": {
    "collapsed": true
   },
   "source": [
    "\n",
    "\n"
   ]
  },
  {
   "cell_type": "code",
   "execution_count": null,
   "metadata": {
    "collapsed": true
   },
   "outputs": [],
   "source": []
  },
  {
   "cell_type": "code",
   "execution_count": null,
   "metadata": {
    "collapsed": true
   },
   "outputs": [],
   "source": []
  },
  {
   "cell_type": "code",
   "execution_count": 1,
   "metadata": {},
   "outputs": [
    {
     "data": {
      "application/javascript": [
       "MathJax.Hub.Config({\n",
       "            Tex: { equationNumbers: { autoNumber: \"AMS\" } }\n",
       "});"
      ],
      "text/plain": [
       "<IPython.core.display.Javascript object>"
      ]
     },
     "metadata": {},
     "output_type": "display_data"
    }
   ],
   "source": []
  },
  {
   "cell_type": "code",
   "execution_count": null,
   "metadata": {},
   "outputs": [],
   "source": []
  }
 ],
 "metadata": {
  "kernelspec": {
   "display_name": "Python 3",
   "language": "python",
   "name": "python3"
  },
  "language_info": {
   "codemirror_mode": {
    "name": "ipython",
    "version": 3
   },
   "file_extension": ".py",
   "mimetype": "text/x-python",
   "name": "python",
   "nbconvert_exporter": "python",
   "pygments_lexer": "ipython3",
   "version": "3.6.4"
  }
 },
 "nbformat": 4,
 "nbformat_minor": 2
}
