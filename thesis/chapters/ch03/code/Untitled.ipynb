{
 "cells": [
  {
   "cell_type": "markdown",
   "metadata": {},
   "source": [
    "# Numerical Solution to the Nernst-Planck Equation\n",
    "\n",
    "\n",
    "## Discrete Equations\n",
    "\n",
    "\n",
    "\n",
    "\\begin{align}\n",
    "    \\rho_s^{n+1, k}-\\rho_s^{n, k} =& \\alpha_s \\left( \\rho_s^{n, k+1} - 2 \\rho_s^{n, k} + \\rho_s^{n, k-1} \\right) \\\\\n",
    "    &-s\\alpha_s\\left(\\frac{\\rho_s^{n, k+1}- \\rho_s^{n, k-1}}{2}\\right)\\left(\\frac{\\Psi^{n, k+1}- \\Psi^{n, k-1}}{2}\\right)\\\\\n",
    "    &-s\\alpha_s\\rho^{n,k}\\left(\\Psi^{n, k+1}- 2\\Psi^{n, k} + \\Psi^{n, k-1}\\right)\n",
    "\\end{align}\n",
    "\n",
    "\n",
    "\\begin{align}\n",
    "    \\rho_s^{n+1, k} =& \\alpha_s\\rho_s^{n, k+1} + ( 1 - 2 \\alpha_s)\\rho_s^{n, k} + \\alpha_s\\rho_s^{n, k-1} \\\\\n",
    "    &-\\frac{s\\alpha_s}{4}\\left[\\left(\\Psi^{n, k+1}- \\Psi^{n, k-1}\\right) \\rho_s^{n, k+1} + 4(\\Psi^{n,2} - 2\\Psi^{n,1} + \\Psi^{n,0})\\rho^{n,1} - \\left(\\Psi^{n, k+1}- \\Psi^{n, k-1}\\right) \\rho_s^{n, k+1}\\right]\n",
    "\\end{align}\n",
    "\n",
    "\n",
    "\n"
   ]
  },
  {
   "cell_type": "code",
   "execution_count": null,
   "metadata": {},
   "outputs": [],
   "source": []
  }
 ],
 "metadata": {
  "kernelspec": {
   "display_name": "Python 3",
   "language": "python",
   "name": "python3"
  },
  "language_info": {
   "codemirror_mode": {
    "name": "ipython",
    "version": 3
   },
   "file_extension": ".py",
   "mimetype": "text/x-python",
   "name": "python",
   "nbconvert_exporter": "python",
   "pygments_lexer": "ipython3",
   "version": "3.6.8"
  }
 },
 "nbformat": 4,
 "nbformat_minor": 2
}
