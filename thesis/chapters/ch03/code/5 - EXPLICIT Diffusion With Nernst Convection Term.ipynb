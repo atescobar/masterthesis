{
 "cells": [
  {
   "cell_type": "markdown",
   "metadata": {},
   "source": [
    "# Implementation Of The Finite Difference Scheme For The Diffusion Equation\n",
    "\n",
    "## Algorithm"
   ]
  },
  {
   "cell_type": "markdown",
   "metadata": {},
   "source": [
    "The system is\n",
    "\n",
    "$$\n",
    "    \\newcommand{\\qty}[1]\n",
    "    {\n",
    "        \\left({#1}\\right)\n",
    "    }\n",
    "    \\newcommand{\\qtys}[1]\n",
    "    {\n",
    "        \\left[{#1}\\right]\n",
    "    }\n",
    "$$     \n",
    "\n",
    "\\begin{align}\n",
    "\\label{eq:adimetional-diffusion-nernst}\n",
    "    \\frac{\\partial \\rho_+}{\\partial \\tau} &= \\qty{\\nabla^2 \\rho_+ - \\nabla\\qty{\\rho_+ \\nabla \\Psi}}, \\\\\n",
    "    \\frac{\\partial \\rho_-}{\\partial \\tau} &= \\frac{\\mathcal{D}_-}{\\mathcal{D_+}}\\qty{\\nabla^2 \\rho_- + \\nabla\\qty{\\rho_- \\nabla \\Psi}}, \\\\\n",
    "    \\nabla^2 \\Psi &= \\kappa^2\\qty{\\rho_- - \\rho_+}.\n",
    "\\end{align}\n",
    "\n",
    "\n",
    "With boundary conditions\n",
    "\n",
    "\\begin{align}\n",
    "    J_+(\\xi = 0) &= -\\mathcal{D}_+\\kappa C_+\\qty{\\frac{\\partial \\rho_+}{\\partial \\xi} - \\rho_+ \\frac{\\partial\\Psi}{\\partial \\xi}}\\bigg|_{x= 0}= -k_f C_+\\rho_s(\\xi = 0, \\tau)\\\\\n",
    "    J_-(\\xi = 0) &= -\\mathcal{D}_-\\kappa C_-\\qty{\\frac{\\partial \\rho_-}{\\partial x} + \\rho_- \\frac{\\partial\\Psi}{\\partial \\xi}}  \\bigg|_{x= 0} = 0\\\\\n",
    "    \\rho_+(\\delta) = 1\\\\\n",
    "    \\rho_-(\\delta) = 1\\\\\n",
    "    \\Psi(\\xi = 0) &= \\frac{z\\mathcal{F}}{RT} V_0 = \\Psi_0\\\\\n",
    "    \\frac{\\partial\\Psi}{\\partial x}(\\xi = 1) &= 0\n",
    "\\end{align}\n",
    "\n",
    "\n"
   ]
  },
  {
   "cell_type": "markdown",
   "metadata": {},
   "source": [
    "# Descrete equations\n",
    "\n",
    "For each species ($s = \\pm$) we have\n",
    "\n",
    "\\begin{align}\n",
    "    C_s^{n+1, k} =& C_s^{n,k} \\qty{1 - 2 \\alpha + s \\alpha \\qty{\\Psi^{n, k} - \\Psi^{n, k-1}}} + \\alpha C_s^{n, k+1} \\qty{1 - s \\qty{\\Psi^{n,k+1} - \\Psi^{n,k}}} + \\alpha C_s^{n,k-1}.\\\\\n",
    "    \\Psi^{n+1, k+1} - 2\\Psi^{n+1,k} + \\Psi^{n+1, k-1} =& C_+^{n+1, k} - C_-^{n+1, k}\n",
    "\\end{align}\n",
    "\n",
    "\n",
    "\n",
    "\n"
   ]
  },
  {
   "cell_type": "markdown",
   "metadata": {},
   "source": [
    "### Descritizing boundary conditions\n",
    "\n",
    "Boundary conditions are drawn from the flux and can be found to be (in descrite form)\n",
    "\n",
    "\\begin{align}\n",
    "\\rho_s^{n+1, 0} &= \\gamma_s \\rho_s^{n+1, 1},\\\\\n",
    "\\rho_s^{n+1, M} &= 1,\\\\\n",
    "\\Psi^{n+1, 0} &= \\Psi_0,\\\\\n",
    "\\Psi^{n+1, M} &= 0,\\\\\n",
    "\\Psi^{n+1, M} &= \\Psi^{n+1, M-1} .\n",
    "\\end{align}\n",
    "\n",
    "with\n",
    "\n",
    "\\begin{align}\n",
    "\\gamma_+ &= \\frac{1}{1 + \\frac{\\Delta \\xi}{\\mathcal{D}_+}\\frac{k_f}{\\kappa} + \\qty{\\Psi^{n+1, 1}-\\Psi^{n+1,0}} }, \\\\\n",
    "\\gamma_- &= \\frac{1}{1 - \\qty{\\Psi^{n+1, 1}-\\Psi^{n+1,0}} }\n",
    "\\end{align}\n",
    "\n",
    "This equations yield the following boundary equations\n",
    "\n",
    "$$ k=1 $$\n",
    "\n",
    "\\begin{align}\n",
    "    \\rho_s^{n+1, 1} = \\rho_s^{n,1} \\qty{1 - 2 \\alpha_s + \\alpha_s \\gamma_s + s \\alpha_s \\qty{\\Psi^{n, 1} - \\Psi^{n, 0}}} + \\alpha_s \\rho_s^{n, 2} \\qty{1 - s \\qty{\\Psi^{n,2} - \\Psi^{n,1}}},\\\\\n",
    "    \\Psi^{n+1, 2} - 2\\Psi^{n+1,1} + \\Psi^{n+1, 0} =& \\Delta \\xi^2\\qty{C_+^{n+1, 1} - C_-^{n+1, 1}}.\n",
    "\\end{align}\n",
    "\n",
    "\n",
    "$$ k = m-1 $$\n",
    "\n",
    "\\begin{align}\n",
    "    \\rho_s^{n+1, m-1} = \\rho_s^{n,m-1} \\qty{1 - 2 \\alpha_s + s \\alpha_s \\qty{\\Psi^{n, m-1} - \\Psi^{n, m-2}}} + \\alpha_s \\rho_s^{n, m} \\qty{1 - s \\qty{\\Psi^{n,m} - \\Psi^{n,m-1}}},\\\\\n",
    "    \\Psi^{n+1, 2} - 2\\Psi^{n+1,1} + \\Psi^{n+1, 0} = \\Delta \\xi^2 \\qty{C_+^{n+1, 1} - C_-^{n+1, 1}}.  \n",
    "\\end{align}\n",
    "\n",
    "\n",
    "\n",
    "\n",
    "### Matrix equations\n",
    "\n",
    "We can write the system as follows\n",
    "\n",
    "\\begin{align}\n",
    "\\underline{\\rho_s^{n+1}} = (\\bf{A} + s\\alpha_s\\bf{B}(\\Psi^{n}) ) \\cdot \\underline{\\rho_s^{n}} + \\bf{b_s}\\\\\n",
    "\\bf{D} \\underline{\\Psi}^{n+1} = \\Delta \\xi ^2\\qty{\\underline{\\rho_-}^{n+1} - \\underline{\\rho_+}^{n+1}}- \\underline{b}_{\\Psi}\n",
    "\\end{align}\n",
    "\n",
    "\n",
    "where\n",
    "\n",
    "\\begin{align}\n",
    "A = \\begin{bmatrix}\n",
    "    1 - 2 \\alpha + \\alpha \\gamma_s   &  \\alpha   & 0  &   \\cdots & 0   &   0   &   0   &   0 \\\\\n",
    "    \\alpha    &   1 - 2 \\alpha       &  \\alpha   & 0  & \\cdots   & 0   &   0   &   0 \\\\\n",
    "    0         & \\alpha               &  1 - 2 \\alpha  & \\alpha   & \\cdots   &   0   &   0   &   0 \\\\\n",
    "    \\vdots    &  \\vdots              &\\vdots          &  \\vdots  & \\vdots   &\\vdots & \\vdots & \\vdots \\\\ \n",
    "    0         &  0                   &  \\cdots        &  0       &  \\alpha    &  1-2\\alpha &    \\alpha   &    0 \\\\\n",
    "0         &  0                   &  \\cdots        &  0           &  0         &     0      &  \\alpha    &  1-2\\alpha \n",
    "\\end{bmatrix}\n",
    "\\end{align}\n",
    "\n",
    ",\n",
    "\n",
    "\\begin{align}\n",
    "B(\\Psi) = \\begin{bmatrix}\n",
    "    \\qty{\\Psi^{n,1} - \\Psi^{n, 0}}   &  -\\qty{\\Psi^{n,2} - \\Psi^{n, 1}}   & 0  &   \\cdots & 0   &   0   &   0   &   0 \\\\\n",
    "    0                                &  \\qty{\\Psi^{n,1} - \\Psi^{n, 0}}    & -\\qty{\\Psi^{n,2} - \\Psi^{n, 1}}   & 0  & \\cdots   & 0   &   0   &   0 \\\\\n",
    "    0         & 0                    &  \\qty{\\Psi^{n,2} - \\Psi^{n, 1}}    & -\\qty{\\Psi^{n,3} - \\Psi^{n, 2}} & \\cdots    &   0   &   0 \\\\\n",
    "    \\vdots    &  \\vdots              &\\vdots          &  \\vdots  & \\vdots   &\\vdots & \\vdots & \\vdots \\\\ \n",
    "    0         &  0                   &  \\cdots        &  0       &  0         &  0         & \\qty{\\Psi^{n,M-2} - \\Psi^{n, M-3}}   & -\\qty{\\Psi^{n,M-1} - \\Psi^{n, M-2}} \\\\\n",
    "0         &  0                   &  \\cdots        &  0           &  0         &     0      &  0    &  \\qty{\\Psi^{n,M-1} - \\Psi^{n, M-2}}\n",
    "\\end{bmatrix}\n",
    "\\end{align}\n",
    "\n",
    "and\n",
    "\\begin{align}\n",
    "D = \\begin{bmatrix}\n",
    "    -2   &  1   & 0  &   \\cdots & 0   &   0   &   0   &   0 \\\\\n",
    "    1    &  -2    & 1   & 0  & \\cdots   & 0   &   0   &   0 \\\\\n",
    "    0         & 1                    &  -2   & 1 & \\cdots    &   0   &   0 \\\\\n",
    "    \\vdots    &  \\vdots              &\\vdots          &  \\vdots  & \\vdots   &\\vdots & \\vdots & \\vdots \\\\ \n",
    "    0         &  0                   &  \\cdots        &  0       &  0         &  0         & -2   & 1 \\\\\n",
    "0         &  0                   &  \\cdots        &  0           &  0         &     0      &  1    &  -2\n",
    "\\end{bmatrix}.\n",
    "\\end{align}\n",
    "\n",
    "\\begin{align}\n",
    "    b_\\Psi = \\begin{bmatrix}\n",
    "        \\Psi_0\\\\\n",
    "        0\\\\\n",
    "        \\vdots\\\\\n",
    "        0\n",
    "    \\end{bmatrix}\n",
    "\\end{align}\n",
    "\n",
    "\\begin{align}\n",
    "    b_s = \\begin{bmatrix}\n",
    "        0\\\\\n",
    "        0\\\\\n",
    "        \\vdots\\\\\n",
    "        0\\\\\n",
    "        1\n",
    "    \\end{bmatrix}\n",
    "\\end{align}\n",
    "\n",
    "We define matrix $\\bf{Z}$ as\n",
    "\n",
    "\\begin{align}\n",
    "    Z_s = A_s + s\\alpha B(\\underline{\\Psi})\n",
    "\\end{align}"
   ]
  },
  {
   "cell_type": "code",
   "execution_count": 1,
   "metadata": {},
   "outputs": [],
   "source": [
    "#imports\n",
    "import numpy as np\n",
    "import matplotlib.pyplot as plt\n",
    "from scipy.sparse import diags\n",
    "import math\n",
    "import matplotlib\n",
    "import json\n",
    "\n",
    "with open('model_parameters.json', 'r') as file:\n",
    "    params = json.loads(file.read())\n"
   ]
  },
  {
   "cell_type": "code",
   "execution_count": 2,
   "metadata": {},
   "outputs": [],
   "source": [
    "class Model():\n",
    "    def __init__(self, params):\n",
    "        #Model Parameters\n",
    "        self.Cb = params['bulkConcentration']\n",
    "        self.D1 = params['diffusionCoefficientCu']\n",
    "        self.D2 = params['diffusionCoefficientSO4']\n",
    "        self.d = params['laminarFlowRegion']\n",
    "        self.kf = params['reactionRate']\n",
    "        self.z = params['z']\n",
    "        self.F = params['Fa']\n",
    "        self.R = params['R']\n",
    "        self.T = params['T']\n",
    "        self.epsilon = params['epsilon']\n",
    "        self.kappa =  np.sqrt(( ( self.z * self.F  ) ** 2 * self.Cb ) / ( self.epsilon * self.R * self.T ) )\n",
    "        self.Psi0 = self.z * self.F * params['V0'] / ( self.R * self.T )\n",
    "        self.to_molar = 1e3\n",
    "        self.N = 100000\n",
    "        self.M = 200\n",
    "        self.xi = np.linspace(0,params[\"length\"], self.M)\n",
    "        self.tau = np.linspace(0,1, self.N) #shape is N+1\n",
    "\n",
    "        #Grid Parameters\n",
    "        self.dtau = 1/(self.N)  # N Partitions\n",
    "        self.dxi = params[\"length\"]/(self.M) # N Partitions \n",
    "        self.a1 = self.dtau / self.dxi ** 2 \n",
    "        self.a2 = self.dtau / self.dxi ** 2 * self.D2/self.D1\n",
    "\n",
    "        #Plotting parameters\n",
    "\n",
    "        \n",
    "    def build(self):\n",
    "        M = self.M\n",
    "        N = self.N\n",
    "        a1 = self.a1\n",
    "        a2 = self.a2\n",
    "        Psi0 = self.Psi0\n",
    "        kappa = self.kappa\n",
    "        kf = self.kf\n",
    "        dxi = self.dxi\n",
    "        D1 = self.D1 \n",
    "        D2 = self.D2\n",
    "        # Define the coefficient matrix\n",
    "        g1 = 1 / ( 1 + kf * dxi / ( D1 * kappa ) +  Psi0)\n",
    "        di1 = ( 1 - 2 * a1 ) * np.ones(M-2)\n",
    "        di1[0] = ( 1 - 2 * a1 + a1 * g1 )\n",
    "        A1 = diags(np.array([ a1 * np.ones(M-3), di1, a1 * np.ones(M-3)]), [-1, 0, 1], shape=(M-2, M-2)).toarray()\n",
    "\n",
    "        g2 = 1 / ( 1 - Psi0 )\n",
    "        di2 = ( 1 - 2 * a2 ) * np.ones(M-2)\n",
    "        di2[0] = ( 1 - 2 * a2 + a2 * g2 )\n",
    "        A2 = diags(np.array([ a2 * np.ones(M-3), di2, a2 * np.ones(M-3)]), [-1, 0, 1], shape=(M-2, M-2)).toarray()\n",
    "\n",
    "        B1 = np.zeros([M-2, M-2])\n",
    "        B2 = np.zeros([M-2, M-2])\n",
    "\n",
    "        D0 = diags(np.array([ np.ones(M-3), -2 * np.ones(M-2), np.ones(M-3)]), [-1, 0, 1], shape=(M-2, M-2)).toarray()\n",
    "        Dinv = np.asarray(np.linalg.inv(D0))\n",
    "\n",
    "        b1 = np.zeros(M-2)\n",
    "        b1[-1] = a1 \n",
    "        b2 = np.zeros(M-2)\n",
    "        b2[-1] = a2\n",
    "\n",
    "        bPsi = np.zeros(M-2)\n",
    "        bPsi[0] = Psi0\n",
    "\n",
    "        def B(s, Psi, n):\n",
    "            diag =  (Psi[n, 1:M-1 ] - Psi[n, 0:M-2 ])\n",
    "            diag2 =  (Psi[n, 1:M-2 ] - Psi[n, 2:M-1 ])\n",
    "            PsiMatrix = diags(np.array([ diag , diag2 ]), [0, 1], shape=(M-2, M-2)).toarray()\n",
    "            if s == 1:\n",
    "                return  -1 * a1 * PsiMatrix\n",
    "            if s == -1:\n",
    "                return a2 * PsiMatrix\n",
    "        # Set up initial conditions for C\n",
    "\n",
    "        rho1 = np.zeros([N, M])\n",
    "        rho2 = np.zeros([N, M])\n",
    "        Psi = np.zeros([N, M])\n",
    "\n",
    "        rho1[0, :] = 0\n",
    "        rho1[0, -1] = 1    \n",
    "\n",
    "        rho2[0, :] = 0\n",
    "        rho2[0, -1] = 1  \n",
    "\n",
    "        Psi[0, :] = 0\n",
    "        Psi[0, 0] = Psi0\n",
    "\n",
    "        #Starting iteration\n",
    "        for n in range(0, N-1):\n",
    "\n",
    "             # Update border condition\n",
    "            g1 = 1 / ( 1 + kf * dxi / ( D1 * kappa ) - (Psi[n,1]- Psi0))\n",
    "            A1[0,0] = ( 1 - 2 * a1 + g1 * a1 )\n",
    "\n",
    "            g2 = 1 / ( 1 + (Psi[n, 1] - Psi[n,0]))\n",
    "            A2[0,0] = ( 1 - 2 * a2 + g2 * a2 )\n",
    "\n",
    "\n",
    "            rho1[n+1, 1:M-1] = np.matmul(A1, rho1[n, 1:M-1])  + b1 + np.matmul(B(1, Psi, n), rho1[n, 1:M-1])\n",
    "            rho1[n+1, 0] = g1 * rho1[n+1, 1]\n",
    "            rho1[n+1, -1] = 1\n",
    "\n",
    "            rho2[n+1, 1:M-1] = np.matmul(A2, rho2[n, 1:M-1]) + b2 + np.matmul(B(-1, Psi, n), rho2[n, 1:M-1]) \n",
    "            rho2[n+1, 0] = g2 * rho2[n+1, 1]\n",
    "            rho2[n+1, -1] = 1\n",
    "\n",
    "            Psi[n+1, 1:M-1] = np.matmul(Dinv, dxi * (rho2[n+1, 1:M-1] - rho1[n+1, 1:M-1]) -bPsi )\n",
    "            Psi[n+1, 0] = Psi0\n",
    "            Psi[n+1, -1] = 0\n",
    "            \n",
    "        print(\"Build Complete\")\n",
    "        self.rho1 = rho1\n",
    "        self.rho2 = rho2\n",
    "        self.Psi = Psi\n",
    "        \n",
    "    def remove_points(self, A, n):\n",
    "        #n is the number of steps to skip\n",
    "        if n >= 4:\n",
    "            A = np.delete(A, [1, 2, 3])\n",
    "\n",
    "        for i in range(0,int(len(A)/4)):\n",
    "            index = i+n\n",
    "            A = np.delete(A, [index-2, index-1, index])\n",
    "        return A\n",
    "        #Cm is the imported analytical solution\n",
    "\n",
    "\n",
    "    def plot(self, t, plot, imageName='complete-diffusion-nernst'):\n",
    "        self.imageName = imageName\n",
    "        Cb = self.Cb\n",
    "        dtau = self.dtau\n",
    "        C1 =  self.to_molar * Cb * self.rho1\n",
    "        C2 = self.to_molar * Cb * self.rho2\n",
    "        phi = self.R * self.T * self.Psi / (self.z * self.F)\n",
    "        kappa = self.kappa\n",
    "        D1 = self.D1 \n",
    "        mw = 4\n",
    "        fs = 24\n",
    "        skip = 4\n",
    "\n",
    "        font = {'size'   : fs}\n",
    "        matplotlib.rc('font', **font)\n",
    "        \n",
    "        #xi2 = remove_points(self.xi, skip) # this is done to avoid cluttering of numeric points over the analytic solution\n",
    "        xi2 = self.xi # this is done to avoid cluttering of numeric points over the analytic solution\n",
    "        #xi2 = xi2 * nanometerScale #change the scale of the scale to nanometer\n",
    "\n",
    "        fig, ax1 = plt.subplots(figsize=(20,16))\n",
    "\n",
    "\n",
    "        color = 'tab:red'\n",
    "        ax1.tick_params(axis='y', labelcolor=color)\n",
    "        ax2 = ax1.twinx() \n",
    "        color = 'tab:blue'\n",
    "\n",
    "        plt.title('Comparing Numeric Solution To The Diffusion Reaction And Analytic Solution \\n To The Diffusion-Only Problem', fontsize=fs, fontweight='bold')\n",
    "\n",
    "        n = int(t/dtau)\n",
    "        plt.style.use('thesis')\n",
    "        plt.grid(True, color= '#F2F2F2')\n",
    "        ax1.plot(xi2, C1[n, :], 'g^', markersize=mw, label=r'$C_+$,  $\\tau ='+str(t)+'$')\n",
    "        ax1.plot(xi2, C2[n, :],'r^', markersize=mw, label=r'$C_-$,  $\\tau ='+str(t)+'$')\n",
    "        ax1.legend(loc='upper left', fontsize = fs-4)\n",
    "        ax2.plot(xi2, phi[n, :], 'b^', markersize=mw, color='tab:blue', label=r'$\\phi$,  $\\tau ='+str(t)+'$')\n",
    "\n",
    "        ax1.set_xlabel(r'Distance from the interface plate (nm)', fontsize=fs+5)\n",
    "        ax1.set_ylabel(r'Molar Concentration', fontsize=fs+5)\n",
    "        ax2.set_ylabel(r'Electric Potential (V)', fontsize=fs+5)\n",
    "        ax2.tick_params(axis='y', labelcolor=color)\n",
    "\n",
    "        #plt.text(0.9, 40, r'Reaction Rate', fontsize = 14, color = 'black')\n",
    "        #plt.text(0.9, 37, r'$r = - 1.5 \\times 10 \\frac{A}{m^2}$', fontsize = 14, color = 'black')\n",
    "        plt.legend(loc='upper right', fontsize = fs-4)\n",
    "        if(plot):\n",
    "            plt.savefig('../../../img/'+ self.imageName +'.eps', format='eps', dpi=1000, fontsize=fs, fontweight='bold')\n",
    "            print('../../../img/'+ self.imageName +'.eps')\n",
    "            \n",
    "        fig.tight_layout()  # otherwise the right y-label is slightly clipped\n",
    "        \n",
    "    \n",
    "        plt.show()\n",
    "\n",
    "\n",
    "\n",
    "            \n",
    "    \n",
    "\n"
   ]
  },
  {
   "cell_type": "markdown",
   "metadata": {},
   "source": [
    "# Numeric Solution Testing\n",
    "\n",
    "We build the model for the following set of parameters"
   ]
  },
  {
   "cell_type": "code",
   "execution_count": 3,
   "metadata": {},
   "outputs": [],
   "source": [
    "params0 = params\n",
    "params0['bulkConcentration'] = 1e-3\n",
    "\n",
    "\n",
    "model0 = Model(params0)"
   ]
  },
  {
   "cell_type": "code",
   "execution_count": 4,
   "metadata": {},
   "outputs": [
    {
     "name": "stdout",
     "output_type": "stream",
     "text": [
      "Build Complete\n"
     ]
    }
   ],
   "source": [
    "model0.build()"
   ]
  },
  {
   "cell_type": "code",
   "execution_count": 6,
   "metadata": {},
   "outputs": [
    {
     "name": "stdout",
     "output_type": "stream",
     "text": [
      "../../../img/complete-diffusion-nernst.eps\n"
     ]
    },
    {
     "data": {
      "image/png": "[encoded data removed]",
      "text/plain": [
       "<Figure size 1440x1152 with 2 Axes>"
      ]
     },
     "metadata": {},
     "output_type": "display_data"
    }
   ],
   "source": [
    "t = [0.05, 0.1, 0.3, 0.8]\n",
    "model0.plot(0.05, 1)"
   ]
  },
  {
   "cell_type": "code",
   "execution_count": null,
   "metadata": {},
   "outputs": [],
   "source": []
  },
  {
   "cell_type": "markdown",
   "metadata": {},
   "source": [
    "## Reducing to know limit\n",
    "\n",
    "In the case of small reaction rate ($k_f$) values and large ione force we approach the limmit of low electric field interaction and we should get back the behaviour of a purely diffusive process\n",
    "\n"
   ]
  },
  {
   "cell_type": "code",
   "execution_count": 12,
   "metadata": {},
   "outputs": [
    {
     "name": "stdout",
     "output_type": "stream",
     "text": [
      "1846644.2172881446\n"
     ]
    }
   ],
   "source": [
    "factor = 1/80.9\n",
    "params1 = params\n",
    "params1['epsilon'] = factor * params[\"epsilon\"]\n",
    "params1['V0'] = 0\n",
    "\n",
    "model1 = Model(params1)\n",
    "print(model1.kappa/model1.kf)"
   ]
  },
  {
   "cell_type": "code",
   "execution_count": 13,
   "metadata": {},
   "outputs": [
    {
     "name": "stdout",
     "output_type": "stream",
     "text": [
      "Build Complete\n"
     ]
    }
   ],
   "source": [
    "model1.build()\n"
   ]
  },
  {
   "cell_type": "code",
   "execution_count": 19,
   "metadata": {},
   "outputs": [
    {
     "ename": "IndexError",
     "evalue": "index 119999 is out of bounds for axis 0 with size 100000",
     "output_type": "error",
     "traceback": [
      "\u001b[0;31m---------------------------------------------------------------------------\u001b[0m",
      "\u001b[0;31mIndexError\u001b[0m                                Traceback (most recent call last)",
      "\u001b[0;32m<ipython-input-19-d2964533508e>\u001b[0m in \u001b[0;36m<module>\u001b[0;34m()\u001b[0m\n\u001b[0;32m----> 1\u001b[0;31m \u001b[0mmodel1\u001b[0m\u001b[0;34m.\u001b[0m\u001b[0mplot\u001b[0m\u001b[0;34m(\u001b[0m\u001b[0;36m1.2\u001b[0m\u001b[0;34m,\u001b[0m \u001b[0;36m1\u001b[0m\u001b[0;34m,\u001b[0m \u001b[0;34m\"complete-no-electric-field\"\u001b[0m\u001b[0;34m)\u001b[0m\u001b[0;34m\u001b[0m\u001b[0m\n\u001b[0m",
      "\u001b[0;32m<ipython-input-2-bb9d9886772c>\u001b[0m in \u001b[0;36mplot\u001b[0;34m(self, t, plot, imageName)\u001b[0m\n\u001b[1;32m    161\u001b[0m         \u001b[0mplt\u001b[0m\u001b[0;34m.\u001b[0m\u001b[0mstyle\u001b[0m\u001b[0;34m.\u001b[0m\u001b[0muse\u001b[0m\u001b[0;34m(\u001b[0m\u001b[0;34m'thesis'\u001b[0m\u001b[0;34m)\u001b[0m\u001b[0;34m\u001b[0m\u001b[0m\n\u001b[1;32m    162\u001b[0m         \u001b[0mplt\u001b[0m\u001b[0;34m.\u001b[0m\u001b[0mgrid\u001b[0m\u001b[0;34m(\u001b[0m\u001b[0;32mTrue\u001b[0m\u001b[0;34m,\u001b[0m \u001b[0mcolor\u001b[0m\u001b[0;34m=\u001b[0m \u001b[0;34m'#F2F2F2'\u001b[0m\u001b[0;34m)\u001b[0m\u001b[0;34m\u001b[0m\u001b[0m\n\u001b[0;32m--> 163\u001b[0;31m         \u001b[0max1\u001b[0m\u001b[0;34m.\u001b[0m\u001b[0mplot\u001b[0m\u001b[0;34m(\u001b[0m\u001b[0mxi2\u001b[0m\u001b[0;34m,\u001b[0m \u001b[0mC1\u001b[0m\u001b[0;34m[\u001b[0m\u001b[0mn\u001b[0m\u001b[0;34m,\u001b[0m \u001b[0;34m:\u001b[0m\u001b[0;34m]\u001b[0m\u001b[0;34m,\u001b[0m \u001b[0;34m'g^'\u001b[0m\u001b[0;34m,\u001b[0m \u001b[0mmarkersize\u001b[0m\u001b[0;34m=\u001b[0m\u001b[0mmw\u001b[0m\u001b[0;34m,\u001b[0m \u001b[0mlabel\u001b[0m\u001b[0;34m=\u001b[0m\u001b[0;34mr'$C_+$,  $\\tau ='\u001b[0m\u001b[0;34m+\u001b[0m\u001b[0mstr\u001b[0m\u001b[0;34m(\u001b[0m\u001b[0mt\u001b[0m\u001b[0;34m)\u001b[0m\u001b[0;34m+\u001b[0m\u001b[0;34m'$'\u001b[0m\u001b[0;34m)\u001b[0m\u001b[0;34m\u001b[0m\u001b[0m\n\u001b[0m\u001b[1;32m    164\u001b[0m         \u001b[0max1\u001b[0m\u001b[0;34m.\u001b[0m\u001b[0mplot\u001b[0m\u001b[0;34m(\u001b[0m\u001b[0mxi2\u001b[0m\u001b[0;34m,\u001b[0m \u001b[0mC2\u001b[0m\u001b[0;34m[\u001b[0m\u001b[0mn\u001b[0m\u001b[0;34m,\u001b[0m \u001b[0;34m:\u001b[0m\u001b[0;34m]\u001b[0m\u001b[0;34m,\u001b[0m\u001b[0;34m'r^'\u001b[0m\u001b[0;34m,\u001b[0m \u001b[0mmarkersize\u001b[0m\u001b[0;34m=\u001b[0m\u001b[0mmw\u001b[0m\u001b[0;34m,\u001b[0m \u001b[0mlabel\u001b[0m\u001b[0;34m=\u001b[0m\u001b[0;34mr'$C_-$,  $\\tau ='\u001b[0m\u001b[0;34m+\u001b[0m\u001b[0mstr\u001b[0m\u001b[0;34m(\u001b[0m\u001b[0mt\u001b[0m\u001b[0;34m)\u001b[0m\u001b[0;34m+\u001b[0m\u001b[0;34m'$'\u001b[0m\u001b[0;34m)\u001b[0m\u001b[0;34m\u001b[0m\u001b[0m\n\u001b[1;32m    165\u001b[0m         \u001b[0max1\u001b[0m\u001b[0;34m.\u001b[0m\u001b[0mlegend\u001b[0m\u001b[0;34m(\u001b[0m\u001b[0mloc\u001b[0m\u001b[0;34m=\u001b[0m\u001b[0;34m'upper left'\u001b[0m\u001b[0;34m,\u001b[0m \u001b[0mfontsize\u001b[0m \u001b[0;34m=\u001b[0m \u001b[0mfs\u001b[0m\u001b[0;34m-\u001b[0m\u001b[0;36m4\u001b[0m\u001b[0;34m)\u001b[0m\u001b[0;34m\u001b[0m\u001b[0m\n",
      "\u001b[0;31mIndexError\u001b[0m: index 119999 is out of bounds for axis 0 with size 100000"
     ]
    },
    {
     "data": {
      "image/png": "[encoded data removed]",
      "text/plain": [
       "<Figure size 1440x1152 with 2 Axes>"
      ]
     },
     "metadata": {},
     "output_type": "display_data"
    }
   ],
   "source": [
    "model1.plot(1, 1, \"complete-no-electric-field\")"
   ]
  },
  {
   "cell_type": "code",
   "execution_count": null,
   "metadata": {},
   "outputs": [],
   "source": []
  },
  {
   "cell_type": "code",
   "execution_count": 9,
   "metadata": {},
   "outputs": [
    {
     "data": {
      "text/plain": [
       "9.124886283003189e-06"
      ]
     },
     "execution_count": 9,
     "metadata": {},
     "output_type": "execute_result"
    }
   ],
   "source": [
    "#Equilibrium constant\n",
    "np.exp(params['z'] * params['Fa'] * params['V0'] / (params['R'] * params['T']))"
   ]
  },
  {
   "cell_type": "code",
   "execution_count": null,
   "metadata": {},
   "outputs": [],
   "source": []
  },
  {
   "cell_type": "code",
   "execution_count": null,
   "metadata": {},
   "outputs": [],
   "source": []
  },
  {
   "cell_type": "code",
   "execution_count": null,
   "metadata": {},
   "outputs": [],
   "source": []
  },
  {
   "cell_type": "code",
   "execution_count": null,
   "metadata": {},
   "outputs": [],
   "source": [
    "\n"
   ]
  },
  {
   "cell_type": "code",
   "execution_count": null,
   "metadata": {},
   "outputs": [],
   "source": []
  },
  {
   "cell_type": "code",
   "execution_count": null,
   "metadata": {},
   "outputs": [],
   "source": []
  },
  {
   "cell_type": "code",
   "execution_count": null,
   "metadata": {},
   "outputs": [],
   "source": []
  },
  {
   "cell_type": "code",
   "execution_count": null,
   "metadata": {},
   "outputs": [],
   "source": []
  },
  {
   "cell_type": "code",
   "execution_count": null,
   "metadata": {},
   "outputs": [],
   "source": []
  },
  {
   "cell_type": "code",
   "execution_count": null,
   "metadata": {},
   "outputs": [],
   "source": []
  },
  {
   "cell_type": "code",
   "execution_count": null,
   "metadata": {},
   "outputs": [],
   "source": []
  }
 ],
 "metadata": {
  "kernelspec": {
   "display_name": "Python 3",
   "language": "python",
   "name": "python3"
  },
  "language_info": {
   "codemirror_mode": {
    "name": "ipython",
    "version": 3
   },
   "file_extension": ".py",
   "mimetype": "text/x-python",
   "name": "python",
   "nbconvert_exporter": "python",
   "pygments_lexer": "ipython3",
   "version": "3.6.5"
  }
 },
 "nbformat": 4,
 "nbformat_minor": 2
}
