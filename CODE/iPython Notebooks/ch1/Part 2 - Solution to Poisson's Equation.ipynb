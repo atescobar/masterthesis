{
 "cells": [
  {
   "cell_type": "markdown",
   "metadata": {
    "slideshow": {
     "slide_type": "slide"
    }
   },
   "source": [
    "# Solving Poisson's Equation Exactly"
   ]
  },
  {
   "cell_type": "markdown",
   "metadata": {
    "slideshow": {
     "slide_type": "slide"
    }
   },
   "source": [
    "Given a charge distribution, the electric potential is given by the formula\n",
    "$$-\\nabla^2 \\phi(z) = \\frac{\\rho(z)}{\\epsilon}$$\n",
    "\n",
    "where $\\epsilon$ is the relative permitivity of the medium (in this case water)\n",
    "\n",
    "In order to get the charge distribution for this particular charge density, we use the Debye-Huckel theory for electrolyte solutions. The theory gives the charge density as a function of the potential itself\n",
    "\n",
    "$$\\rho(z) = \\sum_s q_s C_s e^{q_s \\phi(z)}$$\n",
    "\n",
    "where the sum is over the different species on the solution, $q_s$ the charge, $C_s$ the concentration of each species.\n",
    "\n",
    "The geometry considered for this particular problem is as follows\n",
    "\n"
   ]
  },
  {
   "cell_type": "code",
   "execution_count": 33,
   "metadata": {
    "hide_input": true,
    "slideshow": {
     "slide_type": "slide"
    }
   },
   "outputs": [],
   "source": [
    "from IPython.display import Image\n",
    "#Image(\"img/geometry.png\")"
   ]
  },
  {
   "cell_type": "markdown",
   "metadata": {
    "slideshow": {
     "slide_type": "slide"
    }
   },
   "source": [
    "## Exact Solution for a Binary Salt\n",
    "\n",
    "For a binary salt, the solution can be calculated analitically. It is found to be\n",
    "\n",
    "$$\\phi (z) = \\frac{2}{\\beta q} log\\left(\\frac{1+tanh\\left(\\frac{q\\beta V_0}{4}\\right)e^{-\\kappa z}}{1-tanh\\left(\\frac{q\\beta V_0}{4}\\right)e^{-\\kappa z}}\\right)$$\n",
    "\n",
    "\n",
    "The electric field is \n",
    "\n",
    "$$E(z) = \\frac{4\\kappa}{\\beta q}\\frac{\\tanh\\left(\\frac{q\\beta V_0}{4}\\right)e^{-\\kappa z}}{1-\\tanh^2\\left(\\frac{q\\beta V_0}{4}\\right)e^{-2\\kappa z}}$$\n",
    "\n",
    "\n"
   ]
  },
  {
   "cell_type": "markdown",
   "metadata": {
    "slideshow": {
     "slide_type": "slide"
    }
   },
   "source": [
    "## Linearization of the Poisson Equation\n",
    "\n",
    "For more complex solutions, such as more than two electrolytes, the solution cannot be treated analytically. Therefore, we approximate Poisson's equation by expanding the Boltzmann factor in the Debye-Huckel theory to first order in $\\phi(z)$\n",
    "\n",
    "$$-\\frac{d^2}{dz^2} \\phi(z) =\\frac{1}{\\epsilon}\\sum_s q_s C_s e^{q_s \\phi(z)}$$\n",
    "$$=\\sum_s q_s C_s (1-q_s \\phi(z))$$\n",
    "\n",
    "Due to electroneutrality of the bulk solution, the first term in the right hand side is zero. Therefore, \n",
    "$$\\frac{d^2}{dz^2}\\phi (z) =\\kappa^2 \\phi(z))$$\n",
    "\n",
    "where we have defined \n",
    "$$\\kappa = \\sqrt{\\frac{\\sum_s C_s q_s^2}{\\epsilon}}$$\n",
    "\n",
    "Given the boundary conditions $\\phi(0) = V_0$, and $\\phi(\\infty) = 0$, the solution is trivialy found to be\n",
    "\n",
    "$$\\phi(z) = V_0 e^{-kz},$$\n",
    "\n",
    "\n"
   ]
  },
  {
   "cell_type": "markdown",
   "metadata": {
    "slideshow": {
     "slide_type": "-"
    }
   },
   "source": [
    "\n",
    "## Comparison Between Exact and Linearized Poisson's Equations\n",
    "\n",
    "First we define all the parameters for our model in MKS units. "
   ]
  },
  {
   "cell_type": "code",
   "execution_count": 47,
   "metadata": {
    "slideshow": {
     "slide_type": "-"
    }
   },
   "outputs": [],
   "source": [
    "import numpy as np\n",
    "import matplotlib.pyplot as plt\n",
    "#import seaborn\n",
    "\n",
    "#Parameters\n",
    "kb = 1.38064852E-23\n",
    "T = 293\n",
    "V = -0.15\n",
    "q = 2*1.60217662E-19 #2e\n",
    "C = 0.1*6.02E26 #Molar Numero de avogadro\n",
    "b = 1/(kb*T)\n",
    "epsilon_0 = 8.85418782E-12\n",
    "epsilon = 80.1*epsilon_0\n",
    "k = np.sqrt(2*b*q**2*C/epsilon)\n",
    "\n",
    "############# Range #############\n",
    "x = np.arange(0, 1E-8, 1E-12)\n",
    "#################################\n",
    "\n",
    "\n",
    "#################### Exact Phi ####################\n",
    "phi = (2/(b*q))*np.log((1+np.tanh(q*b*V/4)*np.exp(-k*x))/(1-np.tanh(q*b*V/4)*np.exp(-k*x))) \n",
    "\n",
    "################### Linearized Phi###################\n",
    "linear_phi = V*np.exp(-k*x)\n"
   ]
  },
  {
   "cell_type": "markdown",
   "metadata": {
    "slideshow": {
     "slide_type": "slide"
    }
   },
   "source": [
    "Next we plot both the linearized and the exact $\\phi(z)$, and the error obtained with the aproximated form"
   ]
  },
  {
   "cell_type": "code",
   "execution_count": 48,
   "metadata": {
    "slideshow": {
     "slide_type": "subslide"
    }
   },
   "outputs": [
    {
     "data": {
      "image/png": "[encoded data removed]",
      "text/plain": [
       "<matplotlib.figure.Figure at 0x11a2f3a90>"
      ]
     },
     "metadata": {},
     "output_type": "display_data"
    }
   ],
   "source": [
    "################### Plot Options ###################\n",
    "fig, ax = plt.subplots()\n",
    "ax.plot(x, phi, 'k', label='Exact $\\phi$', zorder = 11)\n",
    "ax.plot(x , linear_phi,'k--', label='Linearized $\\phi$', zorder = 12)\n",
    "\n",
    "ax.fill_between(x, phi, linear_phi, where=linear_phi<phi, facecolor='red', zorder = 10)\n",
    "legend = ax.legend(loc='center right', shadow=True, fontsize='x-large')\n",
    "# Put a nicer background color on the legend.\n",
    "legend.get_frame().set_facecolor('#00FFCC')\n",
    "plt.xlabel('x [m]')\n",
    "plt.ylabel('$\\phi(x) [V]$')\n",
    "plt.title('Exact and Linearized $\\phi$')\n",
    "plt.grid(True, color= '#F2F2F2')\n",
    "\n",
    "\n",
    "plt.savefig('comparison-phi.eps', format='eps', dpi=1000)\n",
    "plt.show()\n"
   ]
  },
  {
   "cell_type": "code",
   "execution_count": 49,
   "metadata": {
    "slideshow": {
     "slide_type": "-"
    }
   },
   "outputs": [
    {
     "name": "stdout",
     "output_type": "stream",
     "text": [
      "0.012240367006817587\n"
     ]
    }
   ],
   "source": [
    "error = linear_phi-phi \n",
    "std_dev = np.std(error)\n",
    "print(std_dev)"
   ]
  },
  {
   "cell_type": "markdown",
   "metadata": {
    "slideshow": {
     "slide_type": "slide"
    }
   },
   "source": [
    "Next we calculate the error commited in doing the aproximation using NumPy library. \n",
    "The error is $\\sigma = 0.0122403670068$"
   ]
  },
  {
   "cell_type": "markdown",
   "metadata": {
    "collapsed": true
   },
   "source": [
    "## Plotting The Zero Order Electric Field\n",
    "\n",
    "\\begin{align}\n",
    "\\nonumber\n",
    "E(0) = \\frac{4\\kappa}{\\beta q}\\frac{\\tanh\\left(\\frac{q\\beta V_0}{4}\\right)}{1-\\tanh^2\\left(\\frac{q\\beta V_0}{4}\\right)} = \\frac{\\sigma}{\\epsilon}\n",
    "\\end{align}\n",
    "\n"
   ]
  },
  {
   "cell_type": "code",
   "execution_count": 66,
   "metadata": {},
   "outputs": [
    {
     "name": "stderr",
     "output_type": "stream",
     "text": [
      "/anaconda3/lib/python3.6/site-packages/ipykernel_launcher.py:2: RuntimeWarning: divide by zero encountered in true_divide\n",
      "  \n"
     ]
    },
    {
     "data": {
      "image/png": "[encoded data removed]",
      "text/plain": [
       "<matplotlib.figure.Figure at 0x11b618780>"
      ]
     },
     "metadata": {},
     "output_type": "display_data"
    }
   ],
   "source": [
    "V = np.arange(-1, 1, 0.01)\n",
    "sig = epsilon * (4 * k / ( b * q )) * np.tanh(q * b * V / 4) / (1 - (np.tanh(q * b * V / 4)) ** 2)\n",
    "\n",
    "################### Plot Options ###################\n",
    "fig, ax = plt.subplots()\n",
    "ax.plot(V, sig, 'k', label='Exact $\\phi$', zorder = 11)\n",
    "\n",
    "\n",
    "legend = ax.legend(loc='lower right', shadow=True, fontsize='x-large')\n",
    "# Put a nicer background color on the legend.\n",
    "legend.get_frame().set_facecolor('#00FFCC')\n",
    "plt.xlabel('Voltage [V]')\n",
    "plt.ylabel('$\\sigma$')\n",
    "\n",
    "plt.title('Exact and Linearized $\\phi$')\n",
    "plt.grid(True, color= '#F2F2F2')\n",
    "\n",
    "\n",
    "plt.savefig('sig_of_V.eps', format='eps', dpi=1000)\n",
    "plt.show()\n"
   ]
  },
  {
   "cell_type": "markdown",
   "metadata": {},
   "source": [
    "Solving for $V$ we get\n",
    "\n",
    "\\begin{align}\n",
    "\\nonumber\n",
    "\\tanh{\\left(\\frac{q\\beta V_\\pm}{4}\\right)} = \\frac{1}{\\beta q \\sigma} \\left( - 2 \\kappa \\epsilon \\pm \\sqrt{4 \\kappa^2 \\epsilon^2 + \\beta^2 q^2 \\sigma^2} \\right)\n",
    "\\end{align}"
   ]
  },
  {
   "cell_type": "code",
   "execution_count": 71,
   "metadata": {},
   "outputs": [
    {
     "data": {
      "image/png": "[encoded data removed]",
      "text/plain": [
       "<matplotlib.figure.Figure at 0x11a2ece10>"
      ]
     },
     "metadata": {},
     "output_type": "display_data"
    }
   ],
   "source": [
    "sig = np.arange(-10, 10, 0.01)\n",
    "Vp = (4 / ( q * b ) ) * np.arctanh(( 1 / (b * q * sig) ) * ( -2 * k * epsilon + np.sqrt(4 * k ** 2 * epsilon ** 2 + b ** 2 * q ** 2 * sig ** 2 )))\n",
    "#Vm = np.arctanh(( 1 / (b * q * epsilon) ) * ( -2 * k * sig - np.sqrt(4 * k ** 2 * epsilon ** 2 + b ** 2 * q ** 2 * sig ** 2 )))\n",
    "################### Plot Options ###################\n",
    "fig, ax = plt.subplots()\n",
    "ax.plot(sig, Vp, 'k', label='Exact $\\phi$', zorder = 11)\n",
    "\n",
    "legend = ax.legend(loc='lower right', shadow=True, fontsize='x-large')\n",
    "# Put a nicer background color on the legend.\n",
    "legend.get_frame().set_facecolor('#00FFCC')\n",
    "plt.xlabel('Voltage [V]')\n",
    "plt.ylabel('$\\sigma$')\n",
    "plt.title('Exact and Linearized $\\phi$')\n",
    "plt.grid(True, color= '#F2F2F2')\n",
    "\n",
    "\n",
    "plt.savefig('V_of_sig.eps', format='eps', dpi=1000)\n",
    "plt.show()\n"
   ]
  },
  {
   "cell_type": "code",
   "execution_count": null,
   "metadata": {},
   "outputs": [],
   "source": []
  },
  {
   "cell_type": "code",
   "execution_count": null,
   "metadata": {},
   "outputs": [],
   "source": []
  },
  {
   "cell_type": "code",
   "execution_count": null,
   "metadata": {},
   "outputs": [],
   "source": []
  }
 ],
 "metadata": {
  "kernelspec": {
   "display_name": "Python 2",
   "language": "python",
   "name": "python2"
  },
  "language_info": {
   "codemirror_mode": {
    "name": "ipython",
    "version": 3
   },
   "file_extension": ".py",
   "mimetype": "text/x-python",
   "name": "python",
   "nbconvert_exporter": "python",
   "pygments_lexer": "ipython3",
   "version": "3.6.4"
  },
  "latex_envs": {
   "LaTeX_envs_menu_present": true,
   "autoclose": false,
   "autocomplete": true,
   "bibliofile": "biblio.bib",
   "cite_by": "apalike",
   "current_citInitial": 1,
   "eqLabelWithNumbers": true,
   "eqNumInitial": 1,
   "hotkeys": {
    "equation": "Ctrl-E",
    "itemize": "Ctrl-I"
   },
   "labels_anchors": false,
   "latex_user_defs": false,
   "report_style_numbering": false,
   "user_envs_cfg": false
  }
 },
 "nbformat": 4,
 "nbformat_minor": 2
}
