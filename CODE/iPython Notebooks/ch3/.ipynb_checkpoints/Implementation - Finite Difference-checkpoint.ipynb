{
 "cells": [
  {
   "cell_type": "markdown",
   "metadata": {},
   "source": [
    "# Implementation Of The Finite Difference Scheme For The Diffusion Equation\n"
   ]
  },
  {
   "cell_type": "markdown",
   "metadata": {},
   "source": [
    "## Setting up the model\n",
    "Next, we need to define the constants for the model. In particular, we need to define the ionic force $\\kappa$, which has the following expression\n",
    "\n",
    "\\begin{equation}\n",
    "\\kappa = \\sqrt{\\frac{2(zF)^2}{(RT)^2\\epsilon}} = \\sqrt{\\frac{2(ze)^2}{(k_bT)^2\\epsilon}}\n",
    "\\end{equation}\n",
    "\n",
    "Also we need to define the diffusion coefficient $D$.\n",
    "\n",
    "Since we are working with the dimentionless potential\n",
    "$$\\Psi = \\frac{ze}{k_bT}\\phi$$ \n",
    "the border condition for the potential must be transformed acordingly: $\\bar{V_0} = \\frac{ze}{k_bT} V_0$"
   ]
  },
  {
   "cell_type": "code",
   "execution_count": 62,
   "metadata": {},
   "outputs": [],
   "source": [
    "import numpy as np\n",
    "T = 300\n",
    "coef = 2 * 1.60217662E-19 / (1.38064852E-23 * T)\n",
    "V_0 = -coef * 0.15\n",
    "Cb = 100.\n",
    "epsilon = 80.9 * 8.85418782E-12\n",
    "D1 = 1.05\n",
    "D2 = 1.76\n",
    "\n",
    "k = np.sqrt((coef)**2 / epsilon)\n",
    "r = 5.18E-6*k**2\n"
   ]
  },
  {
   "cell_type": "markdown",
   "metadata": {},
   "source": [
    "### Define Mesh Parameters\n",
    "\n",
    "First, we define the mesh parameters\n",
    "$$x = [0,\\delta]$$\n",
    "$$t = [0, 1]$$\n",
    "where x we divide in M intervales and t in N intervals.\n",
    "\n"
   ]
  },
  {
   "cell_type": "code",
   "execution_count": 63,
   "metadata": {},
   "outputs": [],
   "source": [
    "import numpy as np\n",
    "N = 1000\n",
    "M = 100\n",
    "length = 1.\n",
    "Time = 100. \n",
    "dx = length/M\n",
    "dt = Time/N\n",
    "Cp = np.zeros([N,M+1])\n",
    "Cm = np.zeros([N,M+1])"
   ]
  },
  {
   "cell_type": "markdown",
   "metadata": {},
   "source": [
    "Now we compute the $\\rho = D\\frac{dt}{dx^2}$ parameter."
   ]
  },
  {
   "cell_type": "code",
   "execution_count": 64,
   "metadata": {},
   "outputs": [],
   "source": [
    "def rho(s):\n",
    "    if(s>0):\n",
    "        aux = dt * D1 / (dx) ** 2\n",
    "        return aux\n",
    "    if(s<0):\n",
    "        aux = dt * D2 / (dx) ** 2\n",
    "        return aux"
   ]
  },
  {
   "cell_type": "markdown",
   "metadata": {},
   "source": [
    "Defining the initial conditions, which are \n",
    "$$C_s(0,x) = C_b$$\n",
    "\n",
    "which is due to a well-stired solution."
   ]
  },
  {
   "cell_type": "code",
   "execution_count": 65,
   "metadata": {},
   "outputs": [],
   "source": [
    "x = np.linspace(0,1,M+1)\n",
    "Cp[0,0:M+1] = 0#2.*x + np.sin(2*np.pi*x) + 1.;\n",
    "Cm[0,0:M+1] = 0\n",
    "Cp[0,M] = Cb\n",
    "Cm[0,M] = Cb"
   ]
  },
  {
   "cell_type": "code",
   "execution_count": 66,
   "metadata": {},
   "outputs": [
    {
     "name": "stdout",
     "output_type": "stream",
     "text": [
      "creating coefficient matrix\n",
      "done creating coefficient matrix\n",
      "Setting up b vector on the Psi system\n",
      "done...\n"
     ]
    }
   ],
   "source": [
    "import numpy as np\n",
    "from numpy.linalg import inv\n",
    "import scipy as sp\n",
    "import scipy.sparse\n",
    "print(\"creating coefficient matrix\")\n",
    "\n",
    "def A_inv(s):\n",
    "    a = (1 - rho(s)) * np.ones(M+1)\n",
    "    b1 = 2 * rho(s) * np.ones(M+1)\n",
    "    c =  -rho(s) * np.ones(M+1) \n",
    "    positions = [0, 1, 2]\n",
    "    A = sp.sparse.spdiags(np.array([a, b1, c]), positions, M+1, M+1).todense()\n",
    "    #print(A)\n",
    "    return np.asarray(np.linalg.inv(A))\n",
    "\n",
    "B_Cp = A_inv(1)\n",
    "B_Cm = A_inv(-1)\n",
    "\n",
    "print(\"done creating coefficient matrix\")\n",
    "print(\"Setting up b vector on the Psi system\")\n",
    "bp = np.zeros(M+1)\n",
    "bm = np.zeros(M+1)\n",
    "bp[0] = 0# - rho(1) * r\n",
    "bp[M-1] = rho(1)*Cb\n",
    "bm[M-1] = rho(-1)*Cb\n",
    "bp[M] = - rho(1)*Cb\n",
    "bm[M] = - rho(-1)*Cb\n",
    "\n",
    "\n",
    "print(\"done...\")"
   ]
  },
  {
   "cell_type": "code",
   "execution_count": 67,
   "metadata": {},
   "outputs": [
    {
     "name": "stdout",
     "output_type": "stream",
     "text": [
      "System is ready to be solved... starting iteration now\n",
      "Completed: time axis: 100.00 %\u0007\n",
      "\n",
      "... done computing\n"
     ]
    }
   ],
   "source": [
    "print(\"System is ready to be solved... starting iteration now\")\n",
    "\n",
    "for n in range(0,N-1): \n",
    "    Cp[n+1,:] = np.matmul(B_Cp, Cp[n,:] + bp)\n",
    "    Cm[n+1,:] = np.matmul(B_Cm, Cm[n,:] + bm)\n",
    "    print(\"\\rCompleted: \" + \"time axis: \" + str(\"{0:.2f}\".format((n/(N-2)) * 100)) + \" %\", end=\"\")\n",
    "    \n",
    "    \n",
    "print('\\a')\n",
    "print(\"\\n... done computing\")\n"
   ]
  },
  {
   "cell_type": "code",
   "execution_count": 74,
   "metadata": {},
   "outputs": [],
   "source": [
    "import matplotlib.pyplot as plt\n",
    "from ipywidgets import interact, interactive, fixed, interact_manual\n",
    "import ipywidgets as widgets\n",
    "\n",
    "\n",
    "def f(t):\n",
    "    plt.plot(Cm[t,:], 'g', label=r'$C_-$')\n",
    "    plt.plot(Cp[t,:], 'b--', label=r'$C_+$')\n",
    "    plt.plot(Cb*np.ones(M+1), 'r--', label=r'$C_b$')\n",
    "    plt.legend()\n",
    "    plt.show()\n",
    "\n"
   ]
  },
  {
   "cell_type": "code",
   "execution_count": 75,
   "metadata": {},
   "outputs": [
    {
     "data": {
      "application/vnd.jupyter.widget-view+json": {
       "model_id": "f7103d48905c46a1a9595d424f4652fb",
       "version_major": 2,
       "version_minor": 0
      },
      "text/plain": [
       "interactive(children=(IntSlider(value=10, description='t', max=999), Output()), _dom_classes=('widget-interact…"
      ]
     },
     "metadata": {},
     "output_type": "display_data"
    }
   ],
   "source": [
    "interact(f, t=widgets.IntSlider(min=0,max=N-1,step=1,value=10));"
   ]
  },
  {
   "cell_type": "code",
   "execution_count": null,
   "metadata": {},
   "outputs": [],
   "source": []
  },
  {
   "cell_type": "code",
   "execution_count": null,
   "metadata": {},
   "outputs": [],
   "source": []
  },
  {
   "cell_type": "code",
   "execution_count": null,
   "metadata": {},
   "outputs": [],
   "source": []
  },
  {
   "cell_type": "code",
   "execution_count": null,
   "metadata": {},
   "outputs": [],
   "source": []
  },
  {
   "cell_type": "code",
   "execution_count": null,
   "metadata": {},
   "outputs": [],
   "source": []
  },
  {
   "cell_type": "code",
   "execution_count": null,
   "metadata": {},
   "outputs": [],
   "source": []
  }
 ],
 "metadata": {
  "kernelspec": {
   "display_name": "Python 3",
   "language": "python",
   "name": "python3"
  },
  "language_info": {
   "codemirror_mode": {
    "name": "ipython",
    "version": 3
   },
   "file_extension": ".py",
   "mimetype": "text/x-python",
   "name": "python",
   "nbconvert_exporter": "python",
   "pygments_lexer": "ipython3",
   "version": "3.7.0"
  }
 },
 "nbformat": 4,
 "nbformat_minor": 2
}
