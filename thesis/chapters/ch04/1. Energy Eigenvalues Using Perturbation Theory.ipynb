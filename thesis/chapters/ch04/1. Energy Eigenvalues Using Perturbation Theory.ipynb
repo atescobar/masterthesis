{
 "cells": [
  {
   "cell_type": "markdown",
   "metadata": {
    "slideshow": {
     "slide_type": "slide"
    }
   },
   "source": [
    "# Correcting NV-center Eigenvalues Up to Second Order in $\\beta_\\bot$\n"
   ]
  },
  {
   "cell_type": "markdown",
   "metadata": {
    "slideshow": {
     "slide_type": "slide"
    }
   },
   "source": [
    "\n",
    "\n",
    "Using standar non-degenerate perturbation theory we find that the energy eigenvalues up to second order in $\\beta_\\bot$ are \n",
    "\n",
    "\n",
    "\n",
    "$$E_0 =2\\beta_\\bot^2 \\frac{\\beta_z tan(\\theta)sin(2\\psi+\\phi)-D_{//}}{D^2_{//}-\\beta_z^2sec^2(\\theta)}$$\n",
    "\n",
    "\n",
    "$$E_+ = D_{//}+\\beta_z sec(\\theta)+\\beta_\\bot^2 \\frac{1+sin(\\theta)sin(2\\psi+\\phi)}{D_{//}+\\beta_z sec(\\theta)}$$\n",
    "\n",
    "\n",
    "$$E_- = D_{//}-\\beta_z sec(\\theta)+\\beta_\\bot^2 \\frac{1-sin(\\theta)sin(2\\psi+\\phi)}{D_{//}-\\beta_z sec(\\theta)}$$\n",
    "\n",
    "\n",
    "The following script plots the energy eigenvalues with respect to the $\\theta$ angle, which is a measure of the traverse electric field and magnetic field intensity.\n"
   ]
  },
  {
   "cell_type": "code",
   "execution_count": 7,
   "metadata": {
    "collapsed": true,
    "scrolled": true,
    "slideshow": {
     "slide_type": "slide"
    }
   },
   "outputs": [],
   "source": [
    "import numpy as np\n",
    "import matplotlib.pyplot as plt\n",
    "import seaborn\n",
    "\n",
    "####### Energy eigenvalues to second order in traverse magnetic field ######\n",
    "h = 6.62607005E-34 #planck's constant\n",
    "g = 2 #Electron gyromagnetic factor\n",
    "mu = 9.27400949E-24#Bohr's magneton (J*T^-1)\n",
    "D0 = 2.88E9 #Zero field splitting (Hz)\n",
    "\n",
    "Bz = 0.0001 #Magnetic field along the Z axis (T)\n",
    "\n",
    "Ef = 1\n",
    "by =0.001\n",
    "bx =0.001\n",
    "bt = np.sqrt(bx**2+by**2)\n",
    "dp = 0.35*Ef\n",
    "D = h*(D0+dp)\n",
    "bz = g*mu*Bz/h\n",
    "xi = 93000 #(hz)\n",
    "psi = np.arctan(by/bx)\n",
    "phi = np.arctan(1) #|| np.arctan(xi_y/xi_x)\n",
    "#theta = np.arctan(0.75)#np.arctan(xi/bz)\n",
    "\n",
    "############# Range #############\n",
    "x = np.arange(0, np.pi/2, 0.001)\n",
    "##############################\n",
    "\n",
    "E_0 = (1E-6)*2*(bt**2)*(bz*np.tan(x)*np.sin(2*psi+phi)-D)/(D**2-bz**2*((1/np.cos(x)))**2)\n",
    "E_plus = (1E-6)*(D+bz*(1/np.cos(x)))+bt**2*(1+np.sin(x)*np.sin(2*psi+phi))/(D+bz*(1/np.cos(x)))\n",
    "E_minus = (1E-6)*(D-bz*(1/np.cos(x)))+bt**2*(1-np.sin(x)*np.sin(2*psi+phi))/(D-bz*(1/np.cos(x)))"
   ]
  },
  {
   "cell_type": "code",
   "execution_count": 8,
   "metadata": {
    "scrolled": true,
    "slideshow": {
     "slide_type": "slide"
    }
   },
   "outputs": [
    {
     "data": {
      "image/png": "[encoded data removed]",
      "text/plain": [
       "<matplotlib.figure.Figure at 0x107ec71d0>"
      ]
     },
     "metadata": {},
     "output_type": "display_data"
    }
   ],
   "source": [
    "################### Plot Options ###################\n",
    "fig, ax = plt.subplots()\n",
    "ax.plot(x, E_0, 'g', label='$E_0$')\n",
    "ax.plot(x , E_plus,'r', label='$E_-$')\n",
    "ax.plot(x , E_minus,'b', label='$E_+$')\n",
    "legend = ax.legend(loc='upper center', shadow=True, fontsize='x-large')\n",
    "ax.set_ylim([1*10^(-8),-1*10^(-8)])\n",
    "# Put a nicer background color on the legend.\n",
    "legend.get_frame().set_facecolor('#00FFCC')\n",
    "plt.xlabel('$\\theta$')\n",
    "plt.ylabel('Frecuency (MHz)')\n",
    "plt.title('Energy Eigenvalues Correct to Second Order in ')\n",
    "plt.show()\n",
    "\n",
    "\n",
    "\n",
    "\n"
   ]
  },
  {
   "cell_type": "code",
   "execution_count": null,
   "metadata": {
    "collapsed": true,
    "scrolled": true
   },
   "outputs": [],
   "source": []
  },
  {
   "cell_type": "code",
   "execution_count": 9,
   "metadata": {
    "scrolled": true
   },
   "outputs": [
    {
     "data": {
      "text/html": [
       "<style>\n",
       "    @font-face {\n",
       "        font-family: \"Computer Modern\";\n",
       "        src: url('http://9dbb143991406a7c655e-aa5fcb0a5a4ec34cff238a2d56ca4144.r56.cf5.rackcdn.com/cmunss.otf');\n",
       "    }\n",
       "    @font-face {\n",
       "        font-family: \"Computer Modern\";\n",
       "        font-weight: bold;\n",
       "        src: url('http://9dbb143991406a7c655e-aa5fcb0a5a4ec34cff238a2d56ca4144.r56.cf5.rackcdn.com/cmunsx.otf');\n",
       "    }\n",
       "    @font-face {\n",
       "        font-family: \"Computer Modern\";\n",
       "        font-style: oblique;\n",
       "        src: url('http://9dbb143991406a7c655e-aa5fcb0a5a4ec34cff238a2d56ca4144.r56.cf5.rackcdn.com/cmunsi.otf');\n",
       "    }\n",
       "    @font-face {\n",
       "        font-family: \"Computer Modern\";\n",
       "        font-weight: bold;\n",
       "        font-style: oblique;\n",
       "        src: url('http://9dbb143991406a7c655e-aa5fcb0a5a4ec34cff238a2d56ca4144.r56.cf5.rackcdn.com/cmunso.otf');\n",
       "    }\n",
       "    div.cell{\n",
       "        width:800px;\n",
       "        margin-left:16% !important;\n",
       "        margin-right:auto;\n",
       "    }\n",
       "    h1 {\n",
       "        font-family: Helvetica, serif;\n",
       "    }\n",
       "    h4{\n",
       "        margin-top:12px;\n",
       "        margin-bottom: 3px;\n",
       "       }\n",
       "    div.text_cell_render{\n",
       "        font-family: Computer Modern, \"Helvetica Neue\", Arial, Helvetica, Geneva, sans-serif;\n",
       "        line-height: 145%;\n",
       "        font-size: 130%;\n",
       "        width:800px;\n",
       "        margin-left:auto;\n",
       "        margin-right:auto;\n",
       "    }\n",
       "    .CodeMirror{\n",
       "            font-family: \"Source Code Pro\", source-code-pro,Consolas, monospace;\n",
       "    }\n",
       "    .prompt{\n",
       "        display: None;\n",
       "    }\n",
       "    .text_cell_render h5 {\n",
       "        font-weight: 300;\n",
       "        font-size: 22pt;\n",
       "        color: #4057A1;\n",
       "        font-style: italic;\n",
       "        margin-bottom: .5em;\n",
       "        margin-top: 0.5em;\n",
       "        display: block;\n",
       "    }\n",
       "    \n",
       "    .warning{\n",
       "        color: rgb( 240, 20, 20 )\n",
       "        }  \n",
       "</style>\n",
       "<script>\n",
       "    MathJax.Hub.Config({\n",
       "                        TeX: {\n",
       "                           extensions: [\"AMSmath.js\"]\n",
       "                           },\n",
       "                tex2jax: {\n",
       "                    inlineMath: [ ['$','$'], [\"\\\\(\",\"\\\\)\"] ],\n",
       "                    displayMath: [ ['$$','$$'], [\"\\\\[\",\"\\\\]\"] ]\n",
       "                },\n",
       "                displayAlign: 'center', // Change this to 'center' to center equations.\n",
       "                \"HTML-CSS\": {\n",
       "                    styles: {'.MathJax_Display': {\"margin\": 4}}\n",
       "                }\n",
       "        });\n",
       "</script>\n"
      ],
      "text/plain": [
       "<IPython.core.display.HTML object>"
      ]
     },
     "execution_count": 9,
     "metadata": {},
     "output_type": "execute_result"
    }
   ],
   "source": [
    "from IPython.core.display import HTML\n",
    "def css_styling():\n",
    "    styles = open(\"./styles/custom.css\", 'r').read()\n",
    "    return HTML(styles)\n",
    "css_styling()"
   ]
  },
  {
   "cell_type": "code",
   "execution_count": null,
   "metadata": {
    "collapsed": true
   },
   "outputs": [],
   "source": []
  }
 ],
 "metadata": {
  "kernelspec": {
   "display_name": "Python 3",
   "language": "python",
   "name": "python3"
  },
  "language_info": {
   "codemirror_mode": {
    "name": "ipython",
    "version": 3
   },
   "file_extension": ".py",
   "mimetype": "text/x-python",
   "name": "python",
   "nbconvert_exporter": "python",
   "pygments_lexer": "ipython3",
   "version": "3.6.8"
  },
  "latex_envs": {
   "LaTeX_envs_menu_present": true,
   "autoclose": false,
   "autocomplete": true,
   "bibliofile": "biblio.bib",
   "cite_by": "apalike",
   "current_citInitial": 1,
   "eqLabelWithNumbers": true,
   "eqNumInitial": 1,
   "hotkeys": {
    "equation": "Ctrl-E",
    "itemize": "Ctrl-I"
   },
   "labels_anchors": false,
   "latex_user_defs": false,
   "report_style_numbering": false,
   "user_envs_cfg": false
  }
 },
 "nbformat": 4,
 "nbformat_minor": 2
}
