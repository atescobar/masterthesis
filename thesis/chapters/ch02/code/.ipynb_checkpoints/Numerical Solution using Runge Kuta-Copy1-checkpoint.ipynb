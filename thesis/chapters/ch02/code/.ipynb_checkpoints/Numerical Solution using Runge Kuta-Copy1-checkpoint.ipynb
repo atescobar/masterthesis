{
 "cells": [
  {
   "cell_type": "code",
   "execution_count": 1,
   "metadata": {},
   "outputs": [
    {
     "name": "stderr",
     "output_type": "stream",
     "text": [
      "/Users/creative-work/anaconda3/lib/python3.6/site-packages/ipykernel_launcher.py:39: RuntimeWarning: overflow encountered in double_scalars\n",
      "/Users/creative-work/anaconda3/lib/python3.6/site-packages/ipykernel_launcher.py:41: RuntimeWarning: overflow encountered in double_scalars\n",
      "/Users/creative-work/Dropbox/Projects/Current/Magnetic Field Detector/Agustin_Escobar/thesis/thesis/chapters/ch02/ch2/numericMethods/ode/run_kut4.py:22: RuntimeWarning: invalid value encountered in add\n",
      "  return (K0 + 2.0*K1 + 2.0*K2 + K3)/6.0\n",
      "/Users/creative-work/anaconda3/lib/python3.6/site-packages/ipykernel_launcher.py:42: RuntimeWarning: invalid value encountered in double_scalars\n",
      "/Users/creative-work/Dropbox/Projects/Current/Magnetic Field Detector/Agustin_Escobar/thesis/thesis/chapters/ch02/ch2/numericMethods/ode/run_kut4.py:19: RuntimeWarning: invalid value encountered in add\n",
      "  K1 = h*F(x + h/2.0, y + K0/2.0)\n",
      "/Users/creative-work/Dropbox/Projects/Current/Magnetic Field Detector/Agustin_Escobar/thesis/thesis/chapters/ch02/ch2/numericMethods/rootFinding/ridders.py:24: RuntimeWarning: overflow encountered in double_scalars\n",
      "  s = math.sqrt(fc**2 - fa*fb)\n"
     ]
    },
    {
     "name": "stdout",
     "output_type": "stream",
     "text": [
      "Root found!: x = 5.972721449365448e-12 => r(x) = 0.00549162502551042\n",
      "Tolerance: 0.01\n",
      "Border condition at interface is: -11.60355\n",
      "Obtained border condition with shooting method: -0.15082374375382657\n",
      "Obtained border condition in the bulk: 7.58441946442652e-14\n",
      "Shooting error: -0.987003019767285\n"
     ]
    },
    {
     "name": "stderr",
     "output_type": "stream",
     "text": [
      "/Users/creative-work/anaconda3/lib/python3.6/site-packages/ipykernel_launcher.py:39: RuntimeWarning: overflow encountered in double_scalars\n",
      "/Users/creative-work/anaconda3/lib/python3.6/site-packages/ipykernel_launcher.py:41: RuntimeWarning: overflow encountered in double_scalars\n",
      "/Users/creative-work/Dropbox/Projects/Current/Magnetic Field Detector/Agustin_Escobar/thesis/thesis/chapters/ch02/ch2/numericMethods/ode/run_kut4.py:22: RuntimeWarning: invalid value encountered in add\n",
      "  return (K0 + 2.0*K1 + 2.0*K2 + K3)/6.0\n",
      "/Users/creative-work/anaconda3/lib/python3.6/site-packages/ipykernel_launcher.py:42: RuntimeWarning: invalid value encountered in double_scalars\n",
      "/Users/creative-work/Dropbox/Projects/Current/Magnetic Field Detector/Agustin_Escobar/thesis/thesis/chapters/ch02/ch2/numericMethods/ode/run_kut4.py:19: RuntimeWarning: invalid value encountered in add\n",
      "  K1 = h*F(x + h/2.0, y + K0/2.0)\n",
      "/Users/creative-work/Dropbox/Projects/Current/Magnetic Field Detector/Agustin_Escobar/thesis/thesis/chapters/ch02/ch2/numericMethods/rootFinding/ridders.py:24: RuntimeWarning: overflow encountered in double_scalars\n",
      "  s = math.sqrt(fc**2 - fa*fb)\n"
     ]
    },
    {
     "name": "stdout",
     "output_type": "stream",
     "text": [
      "Root found!: x = 3.890586219009849e-08 => r(x) = 0.0005600263707003547\n",
      "Tolerance: 0.01\n",
      "Border condition at interface is: -11.60355\n",
      "Obtained border condition with shooting method: -0.15008400395560506\n",
      "Obtained border condition in the bulk: 5.028970702973454e-10\n",
      "Shooting error: -0.9870667655893656\n",
      "Root found!: x = 3.880016519057271e-06 => r(x) = -0.0009467271814089112\n",
      "Tolerance: 0.01\n",
      "Border condition at interface is: -11.60355\n",
      "Obtained border condition with shooting method: -0.14985799092278868\n",
      "Obtained border condition in the bulk: 5.0153076049745296e-08\n",
      "Shooting error: -0.9870862418790183\n"
     ]
    }
   ],
   "source": [
    "from numericMethods.ode.run_kut4 import integrate\n",
    "from numericMethods.rootFinding.ridders import ridder\n",
    "import numpy as np\n",
    "from math import isnan\n",
    "\n",
    "\n",
    "\n",
    "#Define the initial conditions as a function of u - in the shooting method we don't know the proper initial condition for E(0)\n",
    "#such that the condition phi(d)=V0, where d is the laminar flux region.\n",
    "\n",
    "\n",
    "#Define the initial conditions as a function of u - in the shooting method we don't know the proper initial condition for E(0)\n",
    "#such that the condition phi(d)=V0, where d is the laminar flux region.\n",
    "Psi_all = []\n",
    "Cp_all = []\n",
    "Cm_all = []\n",
    "E_all = []\n",
    "\n",
    "def init(u):\n",
    "    return np.array([Cb, Cb, u, 0])\n",
    "\n",
    "# Define the function F(x,y) such that y' = F(x,y)\n",
    "def F(x,y):\n",
    "    #C plus\n",
    "    Cp =  y[0]\n",
    "    #C minus\n",
    "    Cm = y[1]\n",
    "    #E electric field\n",
    "    E = y[2]\n",
    "    #Electric potential\n",
    "    V = y[3]\n",
    "    #Function\n",
    "    #r0 = r/k\n",
    "    F = np.zeros(4)\n",
    "    F[0] = Cp*E - r0*Cp[0]\n",
    "\n",
    "    F[1] = -Cm*E\n",
    "    F[2] = (Cp-Cm)\n",
    "    F[3] = -E\n",
    "    return F\n",
    "\n",
    "def invert(A):\n",
    "    B = []\n",
    "    N = len(A)\n",
    "    for i in range(0,N):\n",
    "        B.append(A[N-1-i])\n",
    "    return np.array(B)\n",
    "\n",
    "\n",
    "def find_not_nan(L):\n",
    "    for i in range(0,len(L)-1):\n",
    "        if(isnan(L[len(L)-1-i]) == False):\n",
    "            return len(L)-1-i\n",
    "\n",
    "def r(u):\n",
    "    X,Y = integrate(F, xStart, init(u), xStop, step)\n",
    "    V_u = Y[-1,3]\n",
    "    if(isnan(V_u)):\n",
    "        index = int(find_not_nan(Y[:,3]))\n",
    "        V_u = Y[index,3]\n",
    "    return (V_u-V_0)/V_0\n",
    "\n",
    "#Here we start the algorithm to find de numeric solution to the system defined by y'=F(x,y). Note that here y\n",
    "#is a vector with four components\n",
    "\n",
    "#Define integration range.\n",
    "\n",
    "xStop = 20.0\n",
    "xStart = 0.0\n",
    "\n",
    "#Define the number of steps of integration.\n",
    "N = 1E3\n",
    "step = (xStop-xStart)/N\n",
    "\n",
    "u1 = 10\n",
    "u2 = 0\n",
    "\n",
    "z = 2\n",
    "e = 1.60217662E-19\n",
    "k = 1.38064852E-23\n",
    "T = 300\n",
    "Na = 6.02E23\n",
    "Fa = 96485.3329#Na * e\n",
    "R = Na * k\n",
    "coef = z*e/(k*T)\n",
    "V_0 = -coef*0.15\n",
    "D = 1.05\n",
    "Cb = 1\n",
    "kf = 1\n",
    "\n",
    "r0 = kf/(D * k)\n",
    "\n",
    "epsilon = 80.9 * 8.85418782E-12\n",
    "k = np.sqrt(2 * Cb * (z*Fa) ** 2 / (R * T * epsilon))\n",
    "u = ridder(r, u1, u2)\n",
    "\n",
    "#Plot results, if initial condition for E(0) is found.\n",
    "\n",
    "\n",
    "import matplotlib.pyplot as plt\n",
    "\n",
    "if (u != None):\n",
    "    X,Y = integrate(F, xStart, init(u), xStop, step)\n",
    "    Cp = invert(Y[:,0])\n",
    "    Cm = invert(Y[:,1])\n",
    "    E = 1/coef * invert(Y[:,2])\n",
    "    phi = 1/coef * invert(Y[:,3])\n",
    "    xi = X\n",
    "    print(\"Border condition at interface is: \" + str(-77.357*0.15))\n",
    "    print(\"Obtained border condition with shooting method: \" + str(phi[0]))\n",
    "    print(\"Obtained border condition in the bulk: \" + str(E[-1]))\n",
    "    print(\"Shooting error: \" + str((phi[0]-V_0)/V_0))\n",
    "\n",
    "\n",
    "#Plot electric potential\n",
    "    #plt.figure(1)\n",
    "    #plt.title('Numeric Potential', fontsize=16, fontweight='bold')\n",
    "    #plt.xlabel(r'$\\xi = \\kappa x$', fontsize=16)\n",
    "    #plt.ylabel(r'Dimentionless potential ', fontsize=16)\n",
    "    #plt.plot(X[:], phi, 'g', label = \"Potential\")\n",
    "    #plt.axis([xStart, xStop, -20, -0.0])\n",
    "    #plt.legend()\n",
    "    #plt.savefig('potential.eps', format='eps', dpi=1000, fontsize=16, fontweight='bold')\n",
    "    #plt.show()\n",
    "\n",
    "    #Plot electric field\n",
    "    #plt.figure(2)\n",
    "    #plt.plot(X[:], E, 'g', label = \"Electric Field\")\n",
    "    #plt.axis([xStart, xStop, 0.0, 100])\n",
    "    #plt.legend()\n",
    "    #plt.savefig('Efield.eps', format='eps', dpi=1000, fontsize=16, fontweight='bold')\n",
    "    #plt.show()\n",
    "\n",
    "    #Plot Concetration\n",
    "    #plt.figure(3)\n",
    "    #plt.title('Numeric Concentration', fontsize=16, fontweight='bold')\n",
    "    #plt.xlabel(r'$\\xi = \\kappa x$', fontsize=16)\n",
    "    #plt.ylabel(r'Molar Concentration ', fontsize=16)\n",
    "    #plt.plot(X[:], Cp, 'b', label = \"Concentration +\")\n",
    "    #plt.axis([xStart, xStop, 0, 1])\n",
    "    #plt.plot(X[:], Cm, 'r', label = \"Concentration -\")\n",
    "    #plt.legend()\n",
    "\n",
    "\n",
    "\n",
    "    file = open('./results/potential-num-r'+str(r0)+'.txt', 'w')\n",
    "    file2 = open('./results/cp-num-r'+str(r0)+'.txt', 'w')\n",
    "    file3 = open('./results/cm-num-r'+str(r0)+'.txt', 'w')\n",
    "    file4 = open('./results/E-num-r' + str(r0) + '.txt', 'w')\n",
    "\n",
    "\n",
    "    for i in range(0, len(xi)):\n",
    "        file.write(str(xi[i]/k*1E9) + \"\\t\" +  str(phi[i]) + \"\\n\")\n",
    "        file2.write(str(xi[i]/k*1E9) + \"\\t\" +  str(Cp[i]) + \"\\n\")\n",
    "        file3.write(str(xi[i]/k*1E9) + \"\\t\" +  str(Cm[i]) + \"\\n\")\n",
    "        file4.write(str(xi[i]/k*1E9) + \"\\t\" + str(E[i]) + \"\\n\")\n",
    "\n",
    "    file.close()\n",
    "    file2.close()\n",
    "    file3.close()\n",
    "    file4.close()\n",
    "    Psi_all.append(phi)\n",
    "    E_all.append(E)\n",
    "    Cp_all.append(Cp)\n",
    "    Cm_all.append(Cm)\n",
    "\n"
   ]
  },
  {
   "cell_type": "code",
   "execution_count": 11,
   "metadata": {},
   "outputs": [
    {
     "data": {
      "image/png": "[encoded data removed]",
      "text/plain": [
       "<Figure size 432x288 with 1 Axes>"
      ]
     },
     "metadata": {
      "needs_background": "light"
     },
     "output_type": "display_data"
    }
   ],
   "source": [
    "X = X / k*1E9 \n",
    "mw = 4\n",
    "fs = 30\n",
    "plt.figure(1)\n",
    "plt.title('', fontsize=fs, fontweight='bold')\n",
    "plt.xlabel(r'x', fontsize=fs)\n",
    "plt.ylabel(r'Concentracion [$M$]', fontsize=fs)\n",
    "plt.plot(X, Cp_all[0], 'b--', linewidth=mw, label='r = '+str(reactRate[0])+r'$\\frac{Mol}{m^3s}$')\n",
    "plt.plot(X, Cp_all[1], 'r*', markersize=mw, label='r = '+str(reactRate[1])+r'$\\frac{Mol}{m^3s}$')\n",
    "plt.plot(X, Cp_all[2], 'g^', markersize=mw, label='r = '+str(reactRate[2])+r'$\\frac{Mol}{m^3s}$')\n",
    "plt.ylim(0,10)\n",
    "plt.legend(prop={'size': 12})\n",
    "plt.show()\n",
    "\n",
    "#plt.savefig('potential.eps', format='eps', dpi=1000, fontsize=16, fontweight='bold')"
   ]
  },
  {
   "cell_type": "code",
   "execution_count": 12,
   "metadata": {},
   "outputs": [
    {
     "data": {
      "text/plain": [
       "<Figure size 432x288 with 0 Axes>"
      ]
     },
     "metadata": {},
     "output_type": "display_data"
    }
   ],
   "source": [
    "plt.savefig('Concentration-num-'+str(r0)+'.eps', format='eps', dpi=1000, fontsize=16, fontweight='bold')"
   ]
  },
  {
   "cell_type": "code",
   "execution_count": 13,
   "metadata": {},
   "outputs": [
    {
     "data": {
      "image/png": "[encoded data removed]",
      "text/plain": [
       "<Figure size 432x288 with 1 Axes>"
      ]
     },
     "metadata": {
      "needs_background": "light"
     },
     "output_type": "display_data"
    }
   ],
   "source": [
    "\n",
    "plt.figure(1)\n",
    "plt.title('', fontsize=fs, fontweight='bold')\n",
    "plt.xlabel(r'x', fontsize=fs)\n",
    "plt.ylabel(r'Concentracion [$M$]', fontsize=fs)\n",
    "plt.plot(X, Cm_all[0], 'b--', linewidth=mw, label='r = '+str(reactRate[0])+r'$\\frac{Mol}{m^3s}$')\n",
    "plt.plot(X, Cm_all[1], 'r*', markersize=mw, label='r = '+str(reactRate[1])+r'$\\frac{Mol}{m^3s}$')\n",
    "plt.plot(X, Cm_all[2], 'g^', markersize=mw, label='r = '+str(reactRate[2])+r'$\\frac{Mol}{m^3s}$')\n",
    "plt.ylim(0,1.1)\n",
    "plt.legend(prop={'size': 12})\n",
    "plt.show()\n"
   ]
  },
  {
   "cell_type": "code",
   "execution_count": 14,
   "metadata": {},
   "outputs": [
    {
     "data": {
      "image/png": "[encoded data removed]",
      "text/plain": [
       "<Figure size 432x288 with 1 Axes>"
      ]
     },
     "metadata": {
      "needs_background": "light"
     },
     "output_type": "display_data"
    }
   ],
   "source": [
    "\n",
    "plt.figure(1)\n",
    "plt.title('', fontsize=fs, fontweight='bold')\n",
    "plt.xlabel(r'x', fontsize=fs)\n",
    "plt.ylabel(r'Electric Field [$M$]', fontsize=fs)\n",
    "plt.plot(X, E_all[0], 'b--', linewidth=mw, label='r = '+str(reactRate[0])+r'$\\frac{Mol}{m^3s}$')\n",
    "plt.plot(X, E_all[1], 'r*', markersize=mw, label='r = '+str(reactRate[1])+r'$\\frac{Mol}{m^3s}$')\n",
    "plt.plot(X, E_all[2], 'g^', markersize=mw, label='r = '+str(reactRate[2])+r'$\\frac{Mol}{m^3s}$')\n",
    "plt.legend(prop={'size': 12})\n",
    "plt.show()\n"
   ]
  },
  {
   "cell_type": "code",
   "execution_count": 15,
   "metadata": {},
   "outputs": [
    {
     "data": {
      "image/png": "[encoded data removed]",
      "text/plain": [
       "<Figure size 432x288 with 1 Axes>"
      ]
     },
     "metadata": {
      "needs_background": "light"
     },
     "output_type": "display_data"
    }
   ],
   "source": [
    "plt.figure(1)\n",
    "plt.title('', fontsize=fs, fontweight='bold')\n",
    "plt.xlabel(r'x', fontsize=fs)\n",
    "plt.ylabel(r'Potential', fontsize=fs)\n",
    "plt.plot(X, Psi_all[0], 'b--', linewidth=mw, label='r = '+str(reactRate[0])+r'$\\frac{Mol}{m^3s}$')\n",
    "plt.plot(X, Psi_all[1], 'ro', markersize=mw, label='r = '+str(reactRate[1])+r'$\\frac{Mol}{m^3s}$')\n",
    "plt.plot(X, Psi_all[2], 'g^', markersize=mw, label='r = '+str(reactRate[2])+r'$\\frac{Mol}{m^3s}$')\n",
    "plt.legend(prop={'size': 12})\n",
    "plt.show()"
   ]
  },
  {
   "cell_type": "code",
   "execution_count": 46,
   "metadata": {},
   "outputs": [
    {
     "ename": "NameError",
     "evalue": "name 'plt' is not defined",
     "output_type": "error",
     "traceback": [
      "\u001b[0;31m---------------------------------------------------------------------------\u001b[0m",
      "\u001b[0;31mNameError\u001b[0m                                 Traceback (most recent call last)",
      "\u001b[0;32m<ipython-input-46-f458cccd2536>\u001b[0m in \u001b[0;36m<module>\u001b[0;34m\u001b[0m\n\u001b[1;32m      6\u001b[0m     \u001b[0;32mreturn\u001b[0m \u001b[0mA\u001b[0m\u001b[0;34m\u001b[0m\u001b[0;34m\u001b[0m\u001b[0m\n\u001b[1;32m      7\u001b[0m \u001b[0;34m\u001b[0m\u001b[0m\n\u001b[0;32m----> 8\u001b[0;31m \u001b[0mplt\u001b[0m\u001b[0;34m.\u001b[0m\u001b[0mfigure\u001b[0m\u001b[0;34m(\u001b[0m\u001b[0mfigsize\u001b[0m\u001b[0;34m=\u001b[0m\u001b[0;34m(\u001b[0m\u001b[0;36m20\u001b[0m\u001b[0;34m,\u001b[0m\u001b[0;36m16\u001b[0m\u001b[0;34m)\u001b[0m\u001b[0;34m)\u001b[0m\u001b[0;34m\u001b[0m\u001b[0;34m\u001b[0m\u001b[0m\n\u001b[0m\u001b[1;32m      9\u001b[0m \u001b[0mplt\u001b[0m\u001b[0;34m.\u001b[0m\u001b[0msuptitle\u001b[0m\u001b[0;34m(\u001b[0m\u001b[0;34m'Numeric Analysis of Steady State'\u001b[0m\u001b[0;34m,\u001b[0m \u001b[0mfontsize\u001b[0m\u001b[0;34m=\u001b[0m\u001b[0mfs\u001b[0m\u001b[0;34m*\u001b[0m\u001b[0;36m1.5\u001b[0m\u001b[0;34m)\u001b[0m\u001b[0;34m\u001b[0m\u001b[0;34m\u001b[0m\u001b[0m\n\u001b[1;32m     10\u001b[0m \u001b[0mplt\u001b[0m\u001b[0;34m.\u001b[0m\u001b[0msubplot\u001b[0m\u001b[0;34m(\u001b[0m\u001b[0;36m2\u001b[0m\u001b[0;34m,\u001b[0m\u001b[0;36m2\u001b[0m\u001b[0;34m,\u001b[0m\u001b[0;36m1\u001b[0m\u001b[0;34m)\u001b[0m\u001b[0;34m\u001b[0m\u001b[0;34m\u001b[0m\u001b[0m\n",
      "\u001b[0;31mNameError\u001b[0m: name 'plt' is not defined"
     ]
    }
   ],
   "source": [
    "def remove_points(A):\n",
    "    A = np.delete(A, [1, 2, 3])\n",
    "    for i in range(0,int(len(A)/4)):\n",
    "        index = i+4\n",
    "        A = np.delete(A, [index-2, index-1, index])\n",
    "    return A\n",
    "\n",
    "plt.figure(figsize=(20,16))\n",
    "plt.suptitle('Numeric Analysis of Steady State', fontsize=fs*1.5)\n",
    "plt.subplot(2,2,1)\n",
    "plt.title(r'(a)', fontsize=fs, fontweight='bold')\n",
    "plt.ylabel(r'Concentracion [$Mol/m^3$]', fontsize=fs)\n",
    "\n",
    "plt.plot(remove_points(X), remove_points(Cp_all[0]), 'b--', linewidth=mw, label='r = '+str(reactRate[0])+r'$\\frac{Mol}{m^3s}$')\n",
    "plt.plot(remove_points(X), remove_points(Cp_all[1]), 'rs', markersize=mw, label='r = '+str(reactRate[1])+r'$\\frac{Mol}{m^3s}$')\n",
    "plt.plot(remove_points(X), remove_points(Cp_all[2]), 'g^', markersize=mw, label='r = '+str(reactRate[2])+r'$\\frac{Mol}{m^3s}$')\n",
    "plt.ylim(0,2.5)\n",
    "#plt.legend(prop={'size': 12})\n",
    "\n",
    "plt.subplot(2,2,2)\n",
    "plt.title('(b)', fontsize=fs, fontweight='bold')\n",
    "\n",
    "plt.plot(remove_points(X), remove_points(Cm_all[0]), 'b--', linewidth=mw, label='r = '+str(reactRate[0])+r'$\\frac{Mol}{m^3s}$')\n",
    "plt.plot(remove_points(X), remove_points(Cm_all[1]), 'rs', markersize=mw, label='r = '+str(reactRate[1])+r'$\\frac{Mol}{m^3s}$')\n",
    "plt.plot(remove_points(X), remove_points(Cm_all[2]), 'g^', markersize=mw, label='r = '+str(reactRate[2])+r'$\\frac{Mol}{m^3s}$')\n",
    "plt.ylim(0,1.1)\n",
    "#plt.legend(prop={'size': 12})\n",
    "\n",
    "plt.subplot(2,2,3)\n",
    "plt.title(r'(c)', fontsize=fs, fontweight='bold')\n",
    "plt.xlabel(r'x [nm]', fontsize=fs)\n",
    "plt.ylabel(r'Electric Field [$V/m$]', fontsize=fs)\n",
    "plt.plot(remove_points(X), remove_points(E_all[0]), 'b--', linewidth=mw)#, label='r = '+str(reactRate[0])+r'$\\frac{Mol}{m^3s}$')\n",
    "plt.plot(remove_points(X), remove_points(E_all[1]), 'rs', markersize=mw)#, label='r = '+str(reactRate[1])+r'$\\frac{Mol}{m^3s}$')\n",
    "plt.plot(remove_points(X), remove_points(E_all[2]), 'g^', markersize=mw)#, markersize=4, label='r = '+str(reactRate[2])+r'$\\frac{Mol}{m^3s}$')\n",
    "#plt.legend(prop={'size': 12})\n",
    "\n",
    "plt.subplot(2,2,4)\n",
    "plt.title(r'(d)', fontsize=fs, fontweight='bold')\n",
    "plt.xlabel(r'x [nm]', fontsize=fs)\n",
    "plt.ylabel(r'Potential [$V$]', fontsize=fs)\n",
    "plt.plot(remove_points(X), remove_points(Psi_all[0]), 'b--', linewidth=mw, label='r = '+str(reactRate[0])+r'$\\frac{Mol}{m^3s}$')\n",
    "plt.plot(remove_points(X), remove_points(Psi_all[1]), 'rs', markersize=mw, label='r = '+str(reactRate[1])+r'$\\frac{Mol}{m^3s}$')\n",
    "plt.plot(remove_points(X), remove_points(Psi_all[2]), 'g^', markersize=mw, label='r = '+str(reactRate[2])+r'$\\frac{Mol}{m^3s}$')\n",
    "plt.legend(prop={'size': 24})\n",
    "\n",
    "plt.savefig('../../../img/results-numeric.eps', format='eps', dpi=1000, fontsize=fs, fontweight='bold')\n",
    "\n",
    "plt.show()\n",
    "\n"
   ]
  },
  {
   "cell_type": "code",
   "execution_count": 75,
   "metadata": {},
   "outputs": [],
   "source": [
    "import numpy as np\n",
    "from numericMethods.rootFinding.gaussPivot import gaussPivot\n",
    "import math\n",
    "def newtonRaphson2(f,x,tol=1.0e-9):\n",
    "    def jacobian(f,x):\n",
    "        h = 1.0e-4\n",
    "        n = len(x)\n",
    "        jac = np.zeros((n,n))\n",
    "        f0 = f(x)\n",
    "        for i in range(n):\n",
    "            temp = x[i]\n",
    "            x[i] = temp + h\n",
    "            f1 = f(x)\n",
    "            x[i] = temp\n",
    "            jac[:,i] = (f1 - f0)/h\n",
    "        return jac,f0\n",
    "    for i in range(30):\n",
    "        jac,f0 = jacobian(f,x)\n",
    "        if math.sqrt(np.dot(f0,f0)/len(x)) < tol: return x\n",
    "        dx = gaussPivot(jac,-f0)\n",
    "        x = x + dx\n",
    "        if math.sqrt(np.dot(dx,dx)) < tol*max(max(abs(x)),1.0):\n",
    "            return x\n",
    "    print('Too many iterations')"
   ]
  },
  {
   "cell_type": "code",
   "execution_count": 95,
   "metadata": {},
   "outputs": [],
   "source": [
    "def f(x):\n",
    "    return np.array(x[0]**2 + x[1]**2 )"
   ]
  },
  {
   "cell_type": "code",
   "execution_count": 96,
   "metadata": {},
   "outputs": [
    {
     "ename": "TypeError",
     "evalue": "object of type 'numpy.int64' has no len()",
     "output_type": "error",
     "traceback": [
      "\u001b[0;31m---------------------------------------------------------------------------\u001b[0m",
      "\u001b[0;31mTypeError\u001b[0m                                 Traceback (most recent call last)",
      "\u001b[0;32m<ipython-input-96-d81dc5d0bda2>\u001b[0m in \u001b[0;36m<module>\u001b[0;34m\u001b[0m\n\u001b[1;32m      1\u001b[0m \u001b[0mx\u001b[0m \u001b[0;34m=\u001b[0m \u001b[0mnp\u001b[0m\u001b[0;34m.\u001b[0m\u001b[0marray\u001b[0m\u001b[0;34m(\u001b[0m\u001b[0;34m[\u001b[0m\u001b[0;36m2\u001b[0m\u001b[0;34m,\u001b[0m \u001b[0;36m1\u001b[0m\u001b[0;34m]\u001b[0m\u001b[0;34m)\u001b[0m\u001b[0;34m\u001b[0m\u001b[0;34m\u001b[0m\u001b[0m\n\u001b[0;32m----> 2\u001b[0;31m \u001b[0mnewtonRaphson2\u001b[0m\u001b[0;34m(\u001b[0m\u001b[0mf\u001b[0m\u001b[0;34m,\u001b[0m \u001b[0mx\u001b[0m\u001b[0;34m)\u001b[0m\u001b[0;34m\u001b[0m\u001b[0;34m\u001b[0m\u001b[0m\n\u001b[0m",
      "\u001b[0;32m<ipython-input-75-904c88571c75>\u001b[0m in \u001b[0;36mnewtonRaphson2\u001b[0;34m(f, x, tol)\u001b[0m\n\u001b[1;32m     18\u001b[0m         \u001b[0mjac\u001b[0m\u001b[0;34m,\u001b[0m\u001b[0mf0\u001b[0m \u001b[0;34m=\u001b[0m \u001b[0mjacobian\u001b[0m\u001b[0;34m(\u001b[0m\u001b[0mf\u001b[0m\u001b[0;34m,\u001b[0m\u001b[0mx\u001b[0m\u001b[0;34m)\u001b[0m\u001b[0;34m\u001b[0m\u001b[0;34m\u001b[0m\u001b[0m\n\u001b[1;32m     19\u001b[0m         \u001b[0;32mif\u001b[0m \u001b[0mmath\u001b[0m\u001b[0;34m.\u001b[0m\u001b[0msqrt\u001b[0m\u001b[0;34m(\u001b[0m\u001b[0mnp\u001b[0m\u001b[0;34m.\u001b[0m\u001b[0mdot\u001b[0m\u001b[0;34m(\u001b[0m\u001b[0mf0\u001b[0m\u001b[0;34m,\u001b[0m\u001b[0mf0\u001b[0m\u001b[0;34m)\u001b[0m\u001b[0;34m/\u001b[0m\u001b[0mlen\u001b[0m\u001b[0;34m(\u001b[0m\u001b[0mx\u001b[0m\u001b[0;34m)\u001b[0m\u001b[0;34m)\u001b[0m \u001b[0;34m<\u001b[0m \u001b[0mtol\u001b[0m\u001b[0;34m:\u001b[0m \u001b[0;32mreturn\u001b[0m \u001b[0mx\u001b[0m\u001b[0;34m\u001b[0m\u001b[0;34m\u001b[0m\u001b[0m\n\u001b[0;32m---> 20\u001b[0;31m         \u001b[0mdx\u001b[0m \u001b[0;34m=\u001b[0m \u001b[0mgaussPivot\u001b[0m\u001b[0;34m(\u001b[0m\u001b[0mjac\u001b[0m\u001b[0;34m,\u001b[0m\u001b[0;34m-\u001b[0m\u001b[0mf0\u001b[0m\u001b[0;34m)\u001b[0m\u001b[0;34m\u001b[0m\u001b[0;34m\u001b[0m\u001b[0m\n\u001b[0m\u001b[1;32m     21\u001b[0m         \u001b[0mx\u001b[0m \u001b[0;34m=\u001b[0m \u001b[0mx\u001b[0m \u001b[0;34m+\u001b[0m \u001b[0mdx\u001b[0m\u001b[0;34m\u001b[0m\u001b[0;34m\u001b[0m\u001b[0m\n\u001b[1;32m     22\u001b[0m         \u001b[0;32mif\u001b[0m \u001b[0mmath\u001b[0m\u001b[0;34m.\u001b[0m\u001b[0msqrt\u001b[0m\u001b[0;34m(\u001b[0m\u001b[0mnp\u001b[0m\u001b[0;34m.\u001b[0m\u001b[0mdot\u001b[0m\u001b[0;34m(\u001b[0m\u001b[0mdx\u001b[0m\u001b[0;34m,\u001b[0m\u001b[0mdx\u001b[0m\u001b[0;34m)\u001b[0m\u001b[0;34m)\u001b[0m \u001b[0;34m<\u001b[0m \u001b[0mtol\u001b[0m\u001b[0;34m*\u001b[0m\u001b[0mmax\u001b[0m\u001b[0;34m(\u001b[0m\u001b[0mmax\u001b[0m\u001b[0;34m(\u001b[0m\u001b[0mabs\u001b[0m\u001b[0;34m(\u001b[0m\u001b[0mx\u001b[0m\u001b[0;34m)\u001b[0m\u001b[0;34m)\u001b[0m\u001b[0;34m,\u001b[0m\u001b[0;36m1.0\u001b[0m\u001b[0;34m)\u001b[0m\u001b[0;34m:\u001b[0m\u001b[0;34m\u001b[0m\u001b[0;34m\u001b[0m\u001b[0m\n",
      "\u001b[0;32m~/Dropbox/Projects/Current/Magnetic Field Detector/Agustin_Escobar/thesis/thesis/chapters/ch02/ch2/numericMethods/rootFinding/gaussPivot.py\u001b[0m in \u001b[0;36mgaussPivot\u001b[0;34m(a, b, tol)\u001b[0m\n\u001b[1;32m      5\u001b[0m \u001b[0;34m\u001b[0m\u001b[0m\n\u001b[1;32m      6\u001b[0m \u001b[0;32mdef\u001b[0m \u001b[0mgaussPivot\u001b[0m\u001b[0;34m(\u001b[0m\u001b[0ma\u001b[0m\u001b[0;34m,\u001b[0m\u001b[0mb\u001b[0m\u001b[0;34m,\u001b[0m\u001b[0mtol\u001b[0m\u001b[0;34m=\u001b[0m\u001b[0;36m1.0e-12\u001b[0m\u001b[0;34m)\u001b[0m\u001b[0;34m:\u001b[0m\u001b[0;34m\u001b[0m\u001b[0;34m\u001b[0m\u001b[0m\n\u001b[0;32m----> 7\u001b[0;31m     \u001b[0mn\u001b[0m \u001b[0;34m=\u001b[0m \u001b[0mlen\u001b[0m\u001b[0;34m(\u001b[0m\u001b[0mb\u001b[0m\u001b[0;34m)\u001b[0m\u001b[0;34m\u001b[0m\u001b[0;34m\u001b[0m\u001b[0m\n\u001b[0m\u001b[1;32m      8\u001b[0m   \u001b[0;31m# Set up scale factors\u001b[0m\u001b[0;34m\u001b[0m\u001b[0;34m\u001b[0m\u001b[0;34m\u001b[0m\u001b[0m\n\u001b[1;32m      9\u001b[0m     \u001b[0ms\u001b[0m \u001b[0;34m=\u001b[0m \u001b[0mnp\u001b[0m\u001b[0;34m.\u001b[0m\u001b[0mzeros\u001b[0m\u001b[0;34m(\u001b[0m\u001b[0mn\u001b[0m\u001b[0;34m)\u001b[0m\u001b[0;34m\u001b[0m\u001b[0;34m\u001b[0m\u001b[0m\n",
      "\u001b[0;31mTypeError\u001b[0m: object of type 'numpy.int64' has no len()"
     ]
    }
   ],
   "source": [
    "x = np.array([2, 1])\n",
    "newtonRaphson2(f, x)"
   ]
  },
  {
   "cell_type": "code",
   "execution_count": null,
   "metadata": {},
   "outputs": [],
   "source": []
  },
  {
   "cell_type": "code",
   "execution_count": null,
   "metadata": {},
   "outputs": [],
   "source": []
  }
 ],
 "metadata": {
  "kernelspec": {
   "display_name": "Python 3",
   "language": "python",
   "name": "python3"
  },
  "language_info": {
   "codemirror_mode": {
    "name": "ipython",
    "version": 3
   },
   "file_extension": ".py",
   "mimetype": "text/x-python",
   "name": "python",
   "nbconvert_exporter": "python",
   "pygments_lexer": "ipython3",
   "version": "3.6.8"
  }
 },
 "nbformat": 4,
 "nbformat_minor": 2
}
