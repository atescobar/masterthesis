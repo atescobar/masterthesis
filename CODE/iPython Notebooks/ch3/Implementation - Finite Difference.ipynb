{
 "cells": [
  {
   "cell_type": "markdown",
   "metadata": {},
   "source": [
    "# Implementation Of The Finite Difference Scheme For The Diffusion Equation\n"
   ]
  },
  {
   "cell_type": "markdown",
   "metadata": {},
   "source": [
    "## Setting up the model"
   ]
  },
  {
   "cell_type": "code",
   "execution_count": 1,
   "metadata": {},
   "outputs": [],
   "source": [
    "import numpy as np\n",
    "T = 300\n",
    "coef = 2 * 1.60217662E-19 / (1.38064852E-23 * T)\n",
    "V_0 = -coef * 0.15\n",
    "Cb = 3.\n",
    "epsilon = 80.9 * 8.85418782E-12\n",
    "D1 = 1.05\n",
    "D2 = 1.76"
   ]
  },
  {
   "cell_type": "markdown",
   "metadata": {},
   "source": [
    "### Define Mesh Parameters\n",
    "\n",
    "First, we define the mesh parameters\n",
    "$$x = [0,\\delta]$$\n",
    "$$t = [0, 1]$$\n",
    "where x we divide in M intervales and t in N intervals.\n",
    "\n"
   ]
  },
  {
   "cell_type": "code",
   "execution_count": 2,
   "metadata": {},
   "outputs": [],
   "source": [
    "import numpy as np\n",
    "N = 500\n",
    "M = 100\n",
    "length = 1.\n",
    "Time = 1.\n",
    "dx = length/M\n",
    "dt = Time/N\n",
    "Cp = np.zeros([N,M+1])\n",
    "Cm = np.zeros([N,M+1])"
   ]
  },
  {
   "cell_type": "markdown",
   "metadata": {},
   "source": [
    "Now we compute the $\\rho = D\\frac{dt}{dx^2}$ parameter."
   ]
  },
  {
   "cell_type": "code",
   "execution_count": 3,
   "metadata": {},
   "outputs": [],
   "source": [
    "\n",
    "def rho(s):\n",
    "    if(s>0):\n",
    "        aux = dt * D1 / (dx) ** 2\n",
    "        \n",
    "        return aux\n",
    "    if(s<0):\n",
    "        aux = dt * D2 / (dx) ** 2\n",
    "        return aux\n",
    "\n"
   ]
  },
  {
   "cell_type": "markdown",
   "metadata": {},
   "source": [
    "Defining the initial conditions, which are \n",
    "$$C_s(0,x) = C_b$$\n",
    "\n",
    "which is due to a well-stired solution."
   ]
  },
  {
   "cell_type": "code",
   "execution_count": 4,
   "metadata": {},
   "outputs": [],
   "source": [
    "x = np.linspace(0,1,M+1)\n",
    "Cp[0,0:M+1] = 0#2.*x + np.sin(2*np.pi*x) + 1.;\n",
    "Cm[0,0:M+1] = 0\n",
    "Cp[0,M] = Cb\n",
    "Cm[0,M] = Cb"
   ]
  },
  {
   "cell_type": "code",
   "execution_count": 5,
   "metadata": {},
   "outputs": [
    {
     "name": "stdout",
     "output_type": "stream",
     "text": [
      "creating coefficient matrix\n",
      "done creating coefficient matrix\n",
      "Setting up b vector on the Psi system\n",
      "done...\n"
     ]
    }
   ],
   "source": [
    "import numpy as np\n",
    "from numpy.linalg import inv\n",
    "import scipy as sp\n",
    "import scipy.sparse\n",
    "print(\"creating coefficient matrix\")\n",
    "\n",
    "def A_inv(s):\n",
    "    a = (1 - rho(s)) * np.ones(M+1)\n",
    "    b1 = 2 * rho(s) * np.ones(M+1)\n",
    "    c =  -rho(s) * np.ones(M+1) \n",
    "    positions = [0, 1, 2]\n",
    "    A = sp.sparse.spdiags(np.array([a, b1, c]), positions, M+1, M+1).todense()\n",
    "    #print(A)\n",
    "    return np.asarray(np.linalg.inv(A))\n",
    "\n",
    "B_Cp = A_inv(1)\n",
    "B_Cm = A_inv(-1)\n",
    "\n",
    "print(\"done creating coefficient matrix\")\n",
    "print(\"Setting up b vector on the Psi system\")\n",
    "bp = np.zeros(M+1)\n",
    "bm = np.zeros(M+1)\n",
    "bp[M] = - rho(1)*Cb\n",
    "bm[M] = - rho(-1)*Cb\n",
    "bp[M-1] = rho(1)*Cb\n",
    "bm[M-1] = rho(-1)*Cb\n",
    "\n",
    "print(\"done...\")"
   ]
  },
  {
   "cell_type": "code",
   "execution_count": 6,
   "metadata": {},
   "outputs": [
    {
     "name": "stdout",
     "output_type": "stream",
     "text": [
      "System is ready to be solved... starting iteration now\n",
      "Completed: time axis: 100.00 %\u0007\n",
      "\n",
      "... done computing\n"
     ]
    }
   ],
   "source": [
    "print(\"System is ready to be solved... starting iteration now\")\n",
    "\n",
    "for n in range(0,N-1): \n",
    "    Cp[n+1,:] = np.matmul(B_Cp, Cp[n,:] + bp)\n",
    "    Cm[n+1,:] = np.matmul(B_Cp, Cm[n,:] + bm)\n",
    "    print(\"\\rCompleted: \" + \"time axis: \" + str(\"{0:.2f}\".format((n/(N-2)) * 100)) + \" %\", end=\"\")\n",
    "    \n",
    "    \n",
    "print('\\a')\n",
    "print(\"\\n... done computing\")\n"
   ]
  },
  {
   "cell_type": "code",
   "execution_count": 7,
   "metadata": {},
   "outputs": [],
   "source": [
    "import matplotlib.pyplot as plt\n",
    "from ipywidgets import interact, interactive, fixed, interact_manual\n",
    "import ipywidgets as widgets\n",
    "\n",
    "\n",
    "def f(t):\n",
    "    plt.plot(Cm[t,:])\n",
    "    plt.plot(Cp[t,:])\n",
    "    plt.show()\n",
    "\n"
   ]
  },
  {
   "cell_type": "code",
   "execution_count": 8,
   "metadata": {},
   "outputs": [
    {
     "data": {
      "image/png": "[encoded data removed]",
      "text/plain": [
       "<Figure size 432x288 with 1 Axes>"
      ]
     },
     "metadata": {
      "needs_background": "light"
     },
     "output_type": "display_data"
    }
   ],
   "source": [
    "interact(f, t=widgets.IntSlider(min=0,max=M,step=1,value=10));"
   ]
  },
  {
   "cell_type": "code",
   "execution_count": null,
   "metadata": {},
   "outputs": [],
   "source": []
  },
  {
   "cell_type": "code",
   "execution_count": null,
   "metadata": {},
   "outputs": [],
   "source": []
  },
  {
   "cell_type": "code",
   "execution_count": null,
   "metadata": {},
   "outputs": [],
   "source": []
  },
  {
   "cell_type": "code",
   "execution_count": null,
   "metadata": {},
   "outputs": [],
   "source": []
  },
  {
   "cell_type": "code",
   "execution_count": null,
   "metadata": {},
   "outputs": [],
   "source": []
  }
 ],
 "metadata": {
  "kernelspec": {
   "display_name": "Python 3",
   "language": "python",
   "name": "python3"
  },
  "language_info": {
   "codemirror_mode": {
    "name": "ipython",
    "version": 3
   },
   "file_extension": ".py",
   "mimetype": "text/x-python",
   "name": "python",
   "nbconvert_exporter": "python",
   "pygments_lexer": "ipython3",
   "version": "3.7.0"
  }
 },
 "nbformat": 4,
 "nbformat_minor": 2
}
